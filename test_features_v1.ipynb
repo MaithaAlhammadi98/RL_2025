{
 "cells": [
  {
   "cell_type": "code",
   "execution_count": 1,
   "id": "46a099ca-2053-49c7-b285-e5bef04edd09",
   "metadata": {
    "execution": {
     "iopub.execute_input": "2025-10-01T06:28:51.440519Z",
     "iopub.status.busy": "2025-10-01T06:28:51.440187Z",
     "iopub.status.idle": "2025-10-01T06:28:53.646972Z",
     "shell.execute_reply": "2025-10-01T06:28:53.646117Z",
     "shell.execute_reply.started": "2025-10-01T06:28:51.440497Z"
    }
   },
   "outputs": [
    {
     "name": "stdout",
     "output_type": "stream",
     "text": [
      "sys.path OK: C:\\Users\\maitha.alhammadi\\projects\\RL_2025\\src\n"
     ]
    }
   ],
   "source": [
    "import sys\n",
    "from pathlib import Path\n",
    "\n",
    "SRC = (Path.cwd() / \"src\").resolve()\n",
    "if str(SRC) not in sys.path:\n",
    "    sys.path.insert(0, str(SRC))\n",
    "print(\"sys.path OK:\", sys.path[0])\n"
   ]
  },
  {
   "cell_type": "code",
   "execution_count": 2,
   "id": "0e675c04",
   "metadata": {},
   "outputs": [
    {
     "name": "stdout",
     "output_type": "stream",
     "text": [
      "Requirement already satisfied: pip in c:\\users\\maitha.alhammadi\\projects\\rl_2025\\.venv\\lib\\site-packages (25.2)\n",
      "Requirement already satisfied: setuptools in c:\\users\\maitha.alhammadi\\projects\\rl_2025\\.venv\\lib\\site-packages (80.9.0)\n",
      "Requirement already satisfied: wheel in c:\\users\\maitha.alhammadi\\projects\\rl_2025\\.venv\\lib\\site-packages (0.45.1)\n",
      "Note: you may need to restart the kernel to use updated packages.\n",
      "Requirement already satisfied: spacy==3.7.6 in c:\\users\\maitha.alhammadi\\projects\\rl_2025\\.venv\\lib\\site-packages (3.7.6)\n",
      "Requirement already satisfied: spacy-legacy<3.1.0,>=3.0.11 in c:\\users\\maitha.alhammadi\\projects\\rl_2025\\.venv\\lib\\site-packages (from spacy==3.7.6) (3.0.12)\n",
      "Requirement already satisfied: spacy-loggers<2.0.0,>=1.0.0 in c:\\users\\maitha.alhammadi\\projects\\rl_2025\\.venv\\lib\\site-packages (from spacy==3.7.6) (1.0.5)\n",
      "Requirement already satisfied: murmurhash<1.1.0,>=0.28.0 in c:\\users\\maitha.alhammadi\\projects\\rl_2025\\.venv\\lib\\site-packages (from spacy==3.7.6) (1.0.13)\n",
      "Requirement already satisfied: cymem<2.1.0,>=2.0.2 in c:\\users\\maitha.alhammadi\\projects\\rl_2025\\.venv\\lib\\site-packages (from spacy==3.7.6) (2.0.11)\n",
      "Requirement already satisfied: preshed<3.1.0,>=3.0.2 in c:\\users\\maitha.alhammadi\\projects\\rl_2025\\.venv\\lib\\site-packages (from spacy==3.7.6) (3.0.10)\n",
      "Requirement already satisfied: thinc<8.3.0,>=8.2.2 in c:\\users\\maitha.alhammadi\\projects\\rl_2025\\.venv\\lib\\site-packages (from spacy==3.7.6) (8.2.5)\n",
      "Requirement already satisfied: wasabi<1.2.0,>=0.9.1 in c:\\users\\maitha.alhammadi\\projects\\rl_2025\\.venv\\lib\\site-packages (from spacy==3.7.6) (1.1.3)\n",
      "Requirement already satisfied: srsly<3.0.0,>=2.4.3 in c:\\users\\maitha.alhammadi\\projects\\rl_2025\\.venv\\lib\\site-packages (from spacy==3.7.6) (2.5.1)\n",
      "Requirement already satisfied: catalogue<2.1.0,>=2.0.6 in c:\\users\\maitha.alhammadi\\projects\\rl_2025\\.venv\\lib\\site-packages (from spacy==3.7.6) (2.0.10)\n",
      "Requirement already satisfied: weasel<0.5.0,>=0.1.0 in c:\\users\\maitha.alhammadi\\projects\\rl_2025\\.venv\\lib\\site-packages (from spacy==3.7.6) (0.4.1)\n",
      "Requirement already satisfied: typer<1.0.0,>=0.3.0 in c:\\users\\maitha.alhammadi\\projects\\rl_2025\\.venv\\lib\\site-packages (from spacy==3.7.6) (0.19.2)\n",
      "Requirement already satisfied: tqdm<5.0.0,>=4.38.0 in c:\\users\\maitha.alhammadi\\projects\\rl_2025\\.venv\\lib\\site-packages (from spacy==3.7.6) (4.67.1)\n",
      "Requirement already satisfied: requests<3.0.0,>=2.13.0 in c:\\users\\maitha.alhammadi\\projects\\rl_2025\\.venv\\lib\\site-packages (from spacy==3.7.6) (2.32.5)\n",
      "Requirement already satisfied: pydantic!=1.8,!=1.8.1,<3.0.0,>=1.7.4 in c:\\users\\maitha.alhammadi\\projects\\rl_2025\\.venv\\lib\\site-packages (from spacy==3.7.6) (2.11.9)\n",
      "Requirement already satisfied: jinja2 in c:\\users\\maitha.alhammadi\\projects\\rl_2025\\.venv\\lib\\site-packages (from spacy==3.7.6) (3.1.6)\n",
      "Requirement already satisfied: setuptools in c:\\users\\maitha.alhammadi\\projects\\rl_2025\\.venv\\lib\\site-packages (from spacy==3.7.6) (80.9.0)\n",
      "Requirement already satisfied: packaging>=20.0 in c:\\users\\maitha.alhammadi\\projects\\rl_2025\\.venv\\lib\\site-packages (from spacy==3.7.6) (24.2)\n",
      "Requirement already satisfied: langcodes<4.0.0,>=3.2.0 in c:\\users\\maitha.alhammadi\\projects\\rl_2025\\.venv\\lib\\site-packages (from spacy==3.7.6) (3.5.0)\n",
      "Requirement already satisfied: numpy>=1.19.0 in c:\\users\\maitha.alhammadi\\projects\\rl_2025\\.venv\\lib\\site-packages (from spacy==3.7.6) (1.26.4)\n",
      "Requirement already satisfied: language-data>=1.2 in c:\\users\\maitha.alhammadi\\projects\\rl_2025\\.venv\\lib\\site-packages (from langcodes<4.0.0,>=3.2.0->spacy==3.7.6) (1.3.0)\n",
      "Requirement already satisfied: annotated-types>=0.6.0 in c:\\users\\maitha.alhammadi\\projects\\rl_2025\\.venv\\lib\\site-packages (from pydantic!=1.8,!=1.8.1,<3.0.0,>=1.7.4->spacy==3.7.6) (0.7.0)\n",
      "Requirement already satisfied: pydantic-core==2.33.2 in c:\\users\\maitha.alhammadi\\projects\\rl_2025\\.venv\\lib\\site-packages (from pydantic!=1.8,!=1.8.1,<3.0.0,>=1.7.4->spacy==3.7.6) (2.33.2)\n",
      "Requirement already satisfied: typing-extensions>=4.12.2 in c:\\users\\maitha.alhammadi\\projects\\rl_2025\\.venv\\lib\\site-packages (from pydantic!=1.8,!=1.8.1,<3.0.0,>=1.7.4->spacy==3.7.6) (4.15.0)\n",
      "Requirement already satisfied: typing-inspection>=0.4.0 in c:\\users\\maitha.alhammadi\\projects\\rl_2025\\.venv\\lib\\site-packages (from pydantic!=1.8,!=1.8.1,<3.0.0,>=1.7.4->spacy==3.7.6) (0.4.2)\n",
      "Requirement already satisfied: charset_normalizer<4,>=2 in c:\\users\\maitha.alhammadi\\projects\\rl_2025\\.venv\\lib\\site-packages (from requests<3.0.0,>=2.13.0->spacy==3.7.6) (3.4.3)\n",
      "Requirement already satisfied: idna<4,>=2.5 in c:\\users\\maitha.alhammadi\\projects\\rl_2025\\.venv\\lib\\site-packages (from requests<3.0.0,>=2.13.0->spacy==3.7.6) (3.10)\n",
      "Requirement already satisfied: urllib3<3,>=1.21.1 in c:\\users\\maitha.alhammadi\\projects\\rl_2025\\.venv\\lib\\site-packages (from requests<3.0.0,>=2.13.0->spacy==3.7.6) (2.3.0)\n",
      "Requirement already satisfied: certifi>=2017.4.17 in c:\\users\\maitha.alhammadi\\projects\\rl_2025\\.venv\\lib\\site-packages (from requests<3.0.0,>=2.13.0->spacy==3.7.6) (2025.8.3)\n",
      "Requirement already satisfied: blis<0.8.0,>=0.7.8 in c:\\users\\maitha.alhammadi\\projects\\rl_2025\\.venv\\lib\\site-packages (from thinc<8.3.0,>=8.2.2->spacy==3.7.6) (0.7.11)\n",
      "Requirement already satisfied: confection<1.0.0,>=0.0.1 in c:\\users\\maitha.alhammadi\\projects\\rl_2025\\.venv\\lib\\site-packages (from thinc<8.3.0,>=8.2.2->spacy==3.7.6) (0.1.5)\n",
      "Requirement already satisfied: colorama in c:\\users\\maitha.alhammadi\\projects\\rl_2025\\.venv\\lib\\site-packages (from tqdm<5.0.0,>=4.38.0->spacy==3.7.6) (0.4.6)\n",
      "Requirement already satisfied: click>=8.0.0 in c:\\users\\maitha.alhammadi\\projects\\rl_2025\\.venv\\lib\\site-packages (from typer<1.0.0,>=0.3.0->spacy==3.7.6) (8.3.0)\n",
      "Requirement already satisfied: shellingham>=1.3.0 in c:\\users\\maitha.alhammadi\\projects\\rl_2025\\.venv\\lib\\site-packages (from typer<1.0.0,>=0.3.0->spacy==3.7.6) (1.5.4)\n",
      "Requirement already satisfied: rich>=10.11.0 in c:\\users\\maitha.alhammadi\\projects\\rl_2025\\.venv\\lib\\site-packages (from typer<1.0.0,>=0.3.0->spacy==3.7.6) (13.9.4)\n",
      "Requirement already satisfied: cloudpathlib<1.0.0,>=0.7.0 in c:\\users\\maitha.alhammadi\\projects\\rl_2025\\.venv\\lib\\site-packages (from weasel<0.5.0,>=0.1.0->spacy==3.7.6) (0.22.0)\n",
      "Requirement already satisfied: smart-open<8.0.0,>=5.2.1 in c:\\users\\maitha.alhammadi\\projects\\rl_2025\\.venv\\lib\\site-packages (from weasel<0.5.0,>=0.1.0->spacy==3.7.6) (7.3.1)\n",
      "Requirement already satisfied: wrapt in c:\\users\\maitha.alhammadi\\projects\\rl_2025\\.venv\\lib\\site-packages (from smart-open<8.0.0,>=5.2.1->weasel<0.5.0,>=0.1.0->spacy==3.7.6) (1.17.3)\n",
      "Requirement already satisfied: marisa-trie>=1.1.0 in c:\\users\\maitha.alhammadi\\projects\\rl_2025\\.venv\\lib\\site-packages (from language-data>=1.2->langcodes<4.0.0,>=3.2.0->spacy==3.7.6) (1.3.1)\n",
      "Requirement already satisfied: markdown-it-py>=2.2.0 in c:\\users\\maitha.alhammadi\\projects\\rl_2025\\.venv\\lib\\site-packages (from rich>=10.11.0->typer<1.0.0,>=0.3.0->spacy==3.7.6) (4.0.0)\n",
      "Requirement already satisfied: pygments<3.0.0,>=2.13.0 in c:\\users\\maitha.alhammadi\\projects\\rl_2025\\.venv\\lib\\site-packages (from rich>=10.11.0->typer<1.0.0,>=0.3.0->spacy==3.7.6) (2.19.2)\n",
      "Requirement already satisfied: mdurl~=0.1 in c:\\users\\maitha.alhammadi\\projects\\rl_2025\\.venv\\lib\\site-packages (from markdown-it-py>=2.2.0->rich>=10.11.0->typer<1.0.0,>=0.3.0->spacy==3.7.6) (0.1.2)\n",
      "Requirement already satisfied: MarkupSafe>=2.0 in c:\\users\\maitha.alhammadi\\projects\\rl_2025\\.venv\\lib\\site-packages (from jinja2->spacy==3.7.6) (3.0.3)\n",
      "Note: you may need to restart the kernel to use updated packages.\n",
      "Collecting en-core-web-md==3.7.1\n",
      "  Downloading https://github.com/explosion/spacy-models/releases/download/en_core_web_md-3.7.1/en_core_web_md-3.7.1-py3-none-any.whl (42.8 MB)\n",
      "     ---------------------------------------- 0.0/42.8 MB ? eta -:--:--\n",
      "     ---------------------------------------- 0.3/42.8 MB ? eta -:--:--\n",
      "     ---------------------------------------- 0.5/42.8 MB 1.9 MB/s eta 0:00:23\n",
      "      --------------------------------------- 1.0/42.8 MB 1.8 MB/s eta 0:00:24\n",
      "     - -------------------------------------- 1.3/42.8 MB 1.8 MB/s eta 0:00:24\n",
      "     - -------------------------------------- 1.6/42.8 MB 1.7 MB/s eta 0:00:25\n",
      "     - -------------------------------------- 2.1/42.8 MB 1.8 MB/s eta 0:00:24\n",
      "     -- ------------------------------------- 2.4/42.8 MB 1.7 MB/s eta 0:00:24\n",
      "     -- ------------------------------------- 2.6/42.8 MB 1.7 MB/s eta 0:00:24\n",
      "     -- ------------------------------------- 3.1/42.8 MB 1.7 MB/s eta 0:00:23\n",
      "     --- ------------------------------------ 3.4/42.8 MB 1.7 MB/s eta 0:00:24\n",
      "     --- ------------------------------------ 3.7/42.8 MB 1.7 MB/s eta 0:00:23\n",
      "     --- ------------------------------------ 4.2/42.8 MB 1.7 MB/s eta 0:00:23\n",
      "     ---- ----------------------------------- 4.5/42.8 MB 1.7 MB/s eta 0:00:23\n",
      "     ---- ----------------------------------- 5.0/42.8 MB 1.7 MB/s eta 0:00:22\n",
      "     ---- ----------------------------------- 5.2/42.8 MB 1.7 MB/s eta 0:00:22\n",
      "     ----- ---------------------------------- 5.8/42.8 MB 1.7 MB/s eta 0:00:22\n",
      "     ----- ---------------------------------- 6.0/42.8 MB 1.7 MB/s eta 0:00:22\n",
      "     ------ --------------------------------- 6.6/42.8 MB 1.8 MB/s eta 0:00:21\n",
      "     ------ --------------------------------- 6.8/42.8 MB 1.7 MB/s eta 0:00:21\n",
      "     ------ --------------------------------- 7.1/42.8 MB 1.7 MB/s eta 0:00:21\n",
      "     ------- -------------------------------- 7.6/42.8 MB 1.7 MB/s eta 0:00:21\n",
      "     ------- -------------------------------- 7.9/42.8 MB 1.7 MB/s eta 0:00:21\n",
      "     ------- -------------------------------- 8.1/42.8 MB 1.7 MB/s eta 0:00:20\n",
      "     -------- ------------------------------- 8.7/42.8 MB 1.7 MB/s eta 0:00:20\n",
      "     -------- ------------------------------- 8.9/42.8 MB 1.7 MB/s eta 0:00:20\n",
      "     -------- ------------------------------- 9.4/42.8 MB 1.8 MB/s eta 0:00:20\n",
      "     --------- ------------------------------ 9.7/42.8 MB 1.8 MB/s eta 0:00:19\n",
      "     --------- ------------------------------ 10.0/42.8 MB 1.8 MB/s eta 0:00:19\n",
      "     --------- ------------------------------ 10.5/42.8 MB 1.8 MB/s eta 0:00:19\n",
      "     ---------- ----------------------------- 10.7/42.8 MB 1.8 MB/s eta 0:00:19\n",
      "     ---------- ----------------------------- 11.3/42.8 MB 1.8 MB/s eta 0:00:18\n",
      "     ---------- ----------------------------- 11.5/42.8 MB 1.8 MB/s eta 0:00:18\n",
      "     ----------- ---------------------------- 11.8/42.8 MB 1.8 MB/s eta 0:00:18\n",
      "     ----------- ---------------------------- 12.3/42.8 MB 1.8 MB/s eta 0:00:18\n",
      "     ----------- ---------------------------- 12.6/42.8 MB 1.8 MB/s eta 0:00:18\n",
      "     ------------ --------------------------- 13.1/42.8 MB 1.8 MB/s eta 0:00:17\n",
      "     ------------ --------------------------- 13.4/42.8 MB 1.8 MB/s eta 0:00:17\n",
      "     ------------ --------------------------- 13.6/42.8 MB 1.8 MB/s eta 0:00:17\n",
      "     ------------- -------------------------- 14.2/42.8 MB 1.8 MB/s eta 0:00:17\n",
      "     ------------- -------------------------- 14.4/42.8 MB 1.8 MB/s eta 0:00:17\n",
      "     ------------- -------------------------- 14.9/42.8 MB 1.8 MB/s eta 0:00:16\n",
      "     -------------- ------------------------- 15.2/42.8 MB 1.8 MB/s eta 0:00:16\n",
      "     -------------- ------------------------- 15.7/42.8 MB 1.8 MB/s eta 0:00:16\n",
      "     -------------- ------------------------- 16.0/42.8 MB 1.8 MB/s eta 0:00:16\n",
      "     --------------- ------------------------ 16.3/42.8 MB 1.8 MB/s eta 0:00:15\n",
      "     --------------- ------------------------ 16.8/42.8 MB 1.8 MB/s eta 0:00:15\n",
      "     --------------- ------------------------ 17.0/42.8 MB 1.8 MB/s eta 0:00:15\n",
      "     ---------------- ----------------------- 17.3/42.8 MB 1.8 MB/s eta 0:00:15\n",
      "     ---------------- ----------------------- 17.8/42.8 MB 1.8 MB/s eta 0:00:15\n",
      "     ---------------- ----------------------- 18.1/42.8 MB 1.8 MB/s eta 0:00:14\n",
      "     ----------------- ---------------------- 18.6/42.8 MB 1.8 MB/s eta 0:00:14\n",
      "     ----------------- ---------------------- 18.9/42.8 MB 1.8 MB/s eta 0:00:14\n",
      "     ----------------- ---------------------- 19.1/42.8 MB 1.8 MB/s eta 0:00:14\n",
      "     ------------------ --------------------- 19.7/42.8 MB 1.8 MB/s eta 0:00:14\n",
      "     ------------------ --------------------- 19.9/42.8 MB 1.8 MB/s eta 0:00:13\n",
      "     ------------------- -------------------- 20.4/42.8 MB 1.8 MB/s eta 0:00:13\n",
      "     ------------------- -------------------- 20.7/42.8 MB 1.8 MB/s eta 0:00:13\n",
      "     ------------------- -------------------- 21.2/42.8 MB 1.8 MB/s eta 0:00:13\n",
      "     -------------------- ------------------- 21.5/42.8 MB 1.8 MB/s eta 0:00:12\n",
      "     -------------------- ------------------- 21.8/42.8 MB 1.8 MB/s eta 0:00:12\n",
      "     -------------------- ------------------- 22.3/42.8 MB 1.8 MB/s eta 0:00:12\n",
      "     --------------------- ------------------ 22.5/42.8 MB 1.8 MB/s eta 0:00:12\n",
      "     --------------------- ------------------ 22.8/42.8 MB 1.8 MB/s eta 0:00:12\n",
      "     --------------------- ------------------ 23.3/42.8 MB 1.8 MB/s eta 0:00:12\n",
      "     ---------------------- ----------------- 23.6/42.8 MB 1.8 MB/s eta 0:00:11\n",
      "     ---------------------- ----------------- 23.9/42.8 MB 1.8 MB/s eta 0:00:11\n",
      "     ---------------------- ----------------- 24.4/42.8 MB 1.8 MB/s eta 0:00:11\n",
      "     ----------------------- ---------------- 24.6/42.8 MB 1.8 MB/s eta 0:00:11\n",
      "     ----------------------- ---------------- 25.2/42.8 MB 1.8 MB/s eta 0:00:10\n",
      "     ----------------------- ---------------- 25.4/42.8 MB 1.8 MB/s eta 0:00:10\n",
      "     ------------------------ --------------- 25.7/42.8 MB 1.8 MB/s eta 0:00:10\n",
      "     ------------------------ --------------- 26.2/42.8 MB 1.8 MB/s eta 0:00:10\n",
      "     ------------------------ --------------- 26.5/42.8 MB 1.8 MB/s eta 0:00:10\n",
      "     ------------------------- -------------- 27.0/42.8 MB 1.8 MB/s eta 0:00:09\n",
      "     ------------------------- -------------- 27.3/42.8 MB 1.8 MB/s eta 0:00:09\n",
      "     ------------------------- -------------- 27.8/42.8 MB 1.8 MB/s eta 0:00:09\n",
      "     -------------------------- ------------- 28.0/42.8 MB 1.8 MB/s eta 0:00:09\n",
      "     -------------------------- ------------- 28.3/42.8 MB 1.8 MB/s eta 0:00:09\n",
      "     -------------------------- ------------- 28.8/42.8 MB 1.8 MB/s eta 0:00:08\n",
      "     --------------------------- ------------ 29.1/42.8 MB 1.8 MB/s eta 0:00:08\n",
      "     --------------------------- ------------ 29.4/42.8 MB 1.8 MB/s eta 0:00:08\n",
      "     --------------------------- ------------ 29.9/42.8 MB 1.8 MB/s eta 0:00:08\n",
      "     ---------------------------- ----------- 30.1/42.8 MB 1.8 MB/s eta 0:00:08\n",
      "     ---------------------------- ----------- 30.4/42.8 MB 1.8 MB/s eta 0:00:08\n",
      "     ---------------------------- ----------- 30.9/42.8 MB 1.8 MB/s eta 0:00:07\n",
      "     ----------------------------- ---------- 31.2/42.8 MB 1.8 MB/s eta 0:00:07\n",
      "     ----------------------------- ---------- 31.7/42.8 MB 1.8 MB/s eta 0:00:07\n",
      "     ----------------------------- ---------- 32.0/42.8 MB 1.8 MB/s eta 0:00:07\n",
      "     ------------------------------ --------- 32.2/42.8 MB 1.8 MB/s eta 0:00:06\n",
      "     ------------------------------ --------- 32.8/42.8 MB 1.8 MB/s eta 0:00:06\n",
      "     ------------------------------ --------- 33.0/42.8 MB 1.8 MB/s eta 0:00:06\n",
      "     ------------------------------- -------- 33.6/42.8 MB 1.8 MB/s eta 0:00:06\n",
      "     ------------------------------- -------- 33.8/42.8 MB 1.8 MB/s eta 0:00:06\n",
      "     ------------------------------- -------- 34.1/42.8 MB 1.8 MB/s eta 0:00:05\n",
      "     -------------------------------- ------- 34.6/42.8 MB 1.8 MB/s eta 0:00:05\n",
      "     -------------------------------- ------- 34.9/42.8 MB 1.8 MB/s eta 0:00:05\n",
      "     --------------------------------- ------ 35.4/42.8 MB 1.8 MB/s eta 0:00:05\n",
      "     --------------------------------- ------ 35.7/42.8 MB 1.8 MB/s eta 0:00:05\n",
      "     --------------------------------- ------ 36.2/42.8 MB 1.8 MB/s eta 0:00:04\n",
      "     ---------------------------------- ----- 36.4/42.8 MB 1.8 MB/s eta 0:00:04\n",
      "     ---------------------------------- ----- 36.7/42.8 MB 1.8 MB/s eta 0:00:04\n",
      "     ---------------------------------- ----- 37.2/42.8 MB 1.8 MB/s eta 0:00:04\n",
      "     ----------------------------------- ---- 37.5/42.8 MB 1.8 MB/s eta 0:00:03\n",
      "     ----------------------------------- ---- 37.7/42.8 MB 1.8 MB/s eta 0:00:03\n",
      "     ----------------------------------- ---- 38.3/42.8 MB 1.8 MB/s eta 0:00:03\n",
      "     ------------------------------------ --- 38.5/42.8 MB 1.8 MB/s eta 0:00:03\n",
      "     ------------------------------------ --- 38.8/42.8 MB 1.8 MB/s eta 0:00:03\n",
      "     ------------------------------------ --- 39.3/42.8 MB 1.8 MB/s eta 0:00:02\n",
      "     ------------------------------------- -- 39.6/42.8 MB 1.8 MB/s eta 0:00:02\n",
      "     ------------------------------------- -- 39.8/42.8 MB 1.8 MB/s eta 0:00:02\n",
      "     ------------------------------------- -- 40.4/42.8 MB 1.8 MB/s eta 0:00:02\n",
      "     ------------------------------------- -- 40.6/42.8 MB 1.8 MB/s eta 0:00:02\n",
      "     -------------------------------------- - 41.2/42.8 MB 1.8 MB/s eta 0:00:01\n",
      "     -------------------------------------- - 41.4/42.8 MB 1.8 MB/s eta 0:00:01\n",
      "     -------------------------------------- - 41.7/42.8 MB 1.8 MB/s eta 0:00:01\n",
      "     ---------------------------------------  42.2/42.8 MB 1.8 MB/s eta 0:00:01\n",
      "     ---------------------------------------  42.5/42.8 MB 1.8 MB/s eta 0:00:01\n",
      "     ---------------------------------------  42.7/42.8 MB 1.8 MB/s eta 0:00:01\n",
      "     ---------------------------------------  42.7/42.8 MB 1.8 MB/s eta 0:00:01\n",
      "     ---------------------------------------  42.7/42.8 MB 1.8 MB/s eta 0:00:01\n",
      "     ---------------------------------------- 42.8/42.8 MB 1.7 MB/s  0:00:24\n",
      "Requirement already satisfied: spacy<3.8.0,>=3.7.2 in c:\\users\\maitha.alhammadi\\projects\\rl_2025\\.venv\\lib\\site-packages (from en-core-web-md==3.7.1) (3.7.6)\n",
      "Requirement already satisfied: spacy-legacy<3.1.0,>=3.0.11 in c:\\users\\maitha.alhammadi\\projects\\rl_2025\\.venv\\lib\\site-packages (from spacy<3.8.0,>=3.7.2->en-core-web-md==3.7.1) (3.0.12)\n",
      "Requirement already satisfied: spacy-loggers<2.0.0,>=1.0.0 in c:\\users\\maitha.alhammadi\\projects\\rl_2025\\.venv\\lib\\site-packages (from spacy<3.8.0,>=3.7.2->en-core-web-md==3.7.1) (1.0.5)\n",
      "Requirement already satisfied: murmurhash<1.1.0,>=0.28.0 in c:\\users\\maitha.alhammadi\\projects\\rl_2025\\.venv\\lib\\site-packages (from spacy<3.8.0,>=3.7.2->en-core-web-md==3.7.1) (1.0.13)\n",
      "Requirement already satisfied: cymem<2.1.0,>=2.0.2 in c:\\users\\maitha.alhammadi\\projects\\rl_2025\\.venv\\lib\\site-packages (from spacy<3.8.0,>=3.7.2->en-core-web-md==3.7.1) (2.0.11)\n",
      "Requirement already satisfied: preshed<3.1.0,>=3.0.2 in c:\\users\\maitha.alhammadi\\projects\\rl_2025\\.venv\\lib\\site-packages (from spacy<3.8.0,>=3.7.2->en-core-web-md==3.7.1) (3.0.10)\n",
      "Requirement already satisfied: thinc<8.3.0,>=8.2.2 in c:\\users\\maitha.alhammadi\\projects\\rl_2025\\.venv\\lib\\site-packages (from spacy<3.8.0,>=3.7.2->en-core-web-md==3.7.1) (8.2.5)\n",
      "Requirement already satisfied: wasabi<1.2.0,>=0.9.1 in c:\\users\\maitha.alhammadi\\projects\\rl_2025\\.venv\\lib\\site-packages (from spacy<3.8.0,>=3.7.2->en-core-web-md==3.7.1) (1.1.3)\n",
      "Requirement already satisfied: srsly<3.0.0,>=2.4.3 in c:\\users\\maitha.alhammadi\\projects\\rl_2025\\.venv\\lib\\site-packages (from spacy<3.8.0,>=3.7.2->en-core-web-md==3.7.1) (2.5.1)\n",
      "Requirement already satisfied: catalogue<2.1.0,>=2.0.6 in c:\\users\\maitha.alhammadi\\projects\\rl_2025\\.venv\\lib\\site-packages (from spacy<3.8.0,>=3.7.2->en-core-web-md==3.7.1) (2.0.10)\n",
      "Requirement already satisfied: weasel<0.5.0,>=0.1.0 in c:\\users\\maitha.alhammadi\\projects\\rl_2025\\.venv\\lib\\site-packages (from spacy<3.8.0,>=3.7.2->en-core-web-md==3.7.1) (0.4.1)\n",
      "Requirement already satisfied: typer<1.0.0,>=0.3.0 in c:\\users\\maitha.alhammadi\\projects\\rl_2025\\.venv\\lib\\site-packages (from spacy<3.8.0,>=3.7.2->en-core-web-md==3.7.1) (0.19.2)\n",
      "Requirement already satisfied: tqdm<5.0.0,>=4.38.0 in c:\\users\\maitha.alhammadi\\projects\\rl_2025\\.venv\\lib\\site-packages (from spacy<3.8.0,>=3.7.2->en-core-web-md==3.7.1) (4.67.1)\n",
      "Requirement already satisfied: requests<3.0.0,>=2.13.0 in c:\\users\\maitha.alhammadi\\projects\\rl_2025\\.venv\\lib\\site-packages (from spacy<3.8.0,>=3.7.2->en-core-web-md==3.7.1) (2.32.5)\n",
      "Requirement already satisfied: pydantic!=1.8,!=1.8.1,<3.0.0,>=1.7.4 in c:\\users\\maitha.alhammadi\\projects\\rl_2025\\.venv\\lib\\site-packages (from spacy<3.8.0,>=3.7.2->en-core-web-md==3.7.1) (2.11.9)\n",
      "Requirement already satisfied: jinja2 in c:\\users\\maitha.alhammadi\\projects\\rl_2025\\.venv\\lib\\site-packages (from spacy<3.8.0,>=3.7.2->en-core-web-md==3.7.1) (3.1.6)\n",
      "Requirement already satisfied: setuptools in c:\\users\\maitha.alhammadi\\projects\\rl_2025\\.venv\\lib\\site-packages (from spacy<3.8.0,>=3.7.2->en-core-web-md==3.7.1) (80.9.0)\n",
      "Requirement already satisfied: packaging>=20.0 in c:\\users\\maitha.alhammadi\\projects\\rl_2025\\.venv\\lib\\site-packages (from spacy<3.8.0,>=3.7.2->en-core-web-md==3.7.1) (24.2)\n",
      "Requirement already satisfied: langcodes<4.0.0,>=3.2.0 in c:\\users\\maitha.alhammadi\\projects\\rl_2025\\.venv\\lib\\site-packages (from spacy<3.8.0,>=3.7.2->en-core-web-md==3.7.1) (3.5.0)\n",
      "Requirement already satisfied: numpy>=1.19.0 in c:\\users\\maitha.alhammadi\\projects\\rl_2025\\.venv\\lib\\site-packages (from spacy<3.8.0,>=3.7.2->en-core-web-md==3.7.1) (1.26.4)\n",
      "Requirement already satisfied: language-data>=1.2 in c:\\users\\maitha.alhammadi\\projects\\rl_2025\\.venv\\lib\\site-packages (from langcodes<4.0.0,>=3.2.0->spacy<3.8.0,>=3.7.2->en-core-web-md==3.7.1) (1.3.0)\n",
      "Requirement already satisfied: annotated-types>=0.6.0 in c:\\users\\maitha.alhammadi\\projects\\rl_2025\\.venv\\lib\\site-packages (from pydantic!=1.8,!=1.8.1,<3.0.0,>=1.7.4->spacy<3.8.0,>=3.7.2->en-core-web-md==3.7.1) (0.7.0)\n",
      "Requirement already satisfied: pydantic-core==2.33.2 in c:\\users\\maitha.alhammadi\\projects\\rl_2025\\.venv\\lib\\site-packages (from pydantic!=1.8,!=1.8.1,<3.0.0,>=1.7.4->spacy<3.8.0,>=3.7.2->en-core-web-md==3.7.1) (2.33.2)\n",
      "Requirement already satisfied: typing-extensions>=4.12.2 in c:\\users\\maitha.alhammadi\\projects\\rl_2025\\.venv\\lib\\site-packages (from pydantic!=1.8,!=1.8.1,<3.0.0,>=1.7.4->spacy<3.8.0,>=3.7.2->en-core-web-md==3.7.1) (4.15.0)\n",
      "Requirement already satisfied: typing-inspection>=0.4.0 in c:\\users\\maitha.alhammadi\\projects\\rl_2025\\.venv\\lib\\site-packages (from pydantic!=1.8,!=1.8.1,<3.0.0,>=1.7.4->spacy<3.8.0,>=3.7.2->en-core-web-md==3.7.1) (0.4.2)\n",
      "Requirement already satisfied: charset_normalizer<4,>=2 in c:\\users\\maitha.alhammadi\\projects\\rl_2025\\.venv\\lib\\site-packages (from requests<3.0.0,>=2.13.0->spacy<3.8.0,>=3.7.2->en-core-web-md==3.7.1) (3.4.3)\n",
      "Requirement already satisfied: idna<4,>=2.5 in c:\\users\\maitha.alhammadi\\projects\\rl_2025\\.venv\\lib\\site-packages (from requests<3.0.0,>=2.13.0->spacy<3.8.0,>=3.7.2->en-core-web-md==3.7.1) (3.10)\n",
      "Requirement already satisfied: urllib3<3,>=1.21.1 in c:\\users\\maitha.alhammadi\\projects\\rl_2025\\.venv\\lib\\site-packages (from requests<3.0.0,>=2.13.0->spacy<3.8.0,>=3.7.2->en-core-web-md==3.7.1) (2.3.0)\n",
      "Requirement already satisfied: certifi>=2017.4.17 in c:\\users\\maitha.alhammadi\\projects\\rl_2025\\.venv\\lib\\site-packages (from requests<3.0.0,>=2.13.0->spacy<3.8.0,>=3.7.2->en-core-web-md==3.7.1) (2025.8.3)\n",
      "Requirement already satisfied: blis<0.8.0,>=0.7.8 in c:\\users\\maitha.alhammadi\\projects\\rl_2025\\.venv\\lib\\site-packages (from thinc<8.3.0,>=8.2.2->spacy<3.8.0,>=3.7.2->en-core-web-md==3.7.1) (0.7.11)\n",
      "Requirement already satisfied: confection<1.0.0,>=0.0.1 in c:\\users\\maitha.alhammadi\\projects\\rl_2025\\.venv\\lib\\site-packages (from thinc<8.3.0,>=8.2.2->spacy<3.8.0,>=3.7.2->en-core-web-md==3.7.1) (0.1.5)\n",
      "Requirement already satisfied: colorama in c:\\users\\maitha.alhammadi\\projects\\rl_2025\\.venv\\lib\\site-packages (from tqdm<5.0.0,>=4.38.0->spacy<3.8.0,>=3.7.2->en-core-web-md==3.7.1) (0.4.6)\n",
      "Requirement already satisfied: click>=8.0.0 in c:\\users\\maitha.alhammadi\\projects\\rl_2025\\.venv\\lib\\site-packages (from typer<1.0.0,>=0.3.0->spacy<3.8.0,>=3.7.2->en-core-web-md==3.7.1) (8.3.0)\n",
      "Requirement already satisfied: shellingham>=1.3.0 in c:\\users\\maitha.alhammadi\\projects\\rl_2025\\.venv\\lib\\site-packages (from typer<1.0.0,>=0.3.0->spacy<3.8.0,>=3.7.2->en-core-web-md==3.7.1) (1.5.4)\n",
      "Requirement already satisfied: rich>=10.11.0 in c:\\users\\maitha.alhammadi\\projects\\rl_2025\\.venv\\lib\\site-packages (from typer<1.0.0,>=0.3.0->spacy<3.8.0,>=3.7.2->en-core-web-md==3.7.1) (13.9.4)\n",
      "Requirement already satisfied: cloudpathlib<1.0.0,>=0.7.0 in c:\\users\\maitha.alhammadi\\projects\\rl_2025\\.venv\\lib\\site-packages (from weasel<0.5.0,>=0.1.0->spacy<3.8.0,>=3.7.2->en-core-web-md==3.7.1) (0.22.0)\n",
      "Requirement already satisfied: smart-open<8.0.0,>=5.2.1 in c:\\users\\maitha.alhammadi\\projects\\rl_2025\\.venv\\lib\\site-packages (from weasel<0.5.0,>=0.1.0->spacy<3.8.0,>=3.7.2->en-core-web-md==3.7.1) (7.3.1)\n",
      "Requirement already satisfied: wrapt in c:\\users\\maitha.alhammadi\\projects\\rl_2025\\.venv\\lib\\site-packages (from smart-open<8.0.0,>=5.2.1->weasel<0.5.0,>=0.1.0->spacy<3.8.0,>=3.7.2->en-core-web-md==3.7.1) (1.17.3)\n",
      "Requirement already satisfied: marisa-trie>=1.1.0 in c:\\users\\maitha.alhammadi\\projects\\rl_2025\\.venv\\lib\\site-packages (from language-data>=1.2->langcodes<4.0.0,>=3.2.0->spacy<3.8.0,>=3.7.2->en-core-web-md==3.7.1) (1.3.1)\n",
      "Requirement already satisfied: markdown-it-py>=2.2.0 in c:\\users\\maitha.alhammadi\\projects\\rl_2025\\.venv\\lib\\site-packages (from rich>=10.11.0->typer<1.0.0,>=0.3.0->spacy<3.8.0,>=3.7.2->en-core-web-md==3.7.1) (4.0.0)\n",
      "Requirement already satisfied: pygments<3.0.0,>=2.13.0 in c:\\users\\maitha.alhammadi\\projects\\rl_2025\\.venv\\lib\\site-packages (from rich>=10.11.0->typer<1.0.0,>=0.3.0->spacy<3.8.0,>=3.7.2->en-core-web-md==3.7.1) (2.19.2)\n",
      "Requirement already satisfied: mdurl~=0.1 in c:\\users\\maitha.alhammadi\\projects\\rl_2025\\.venv\\lib\\site-packages (from markdown-it-py>=2.2.0->rich>=10.11.0->typer<1.0.0,>=0.3.0->spacy<3.8.0,>=3.7.2->en-core-web-md==3.7.1) (0.1.2)\n",
      "Requirement already satisfied: MarkupSafe>=2.0 in c:\\users\\maitha.alhammadi\\projects\\rl_2025\\.venv\\lib\\site-packages (from jinja2->spacy<3.8.0,>=3.7.2->en-core-web-md==3.7.1) (3.0.3)\n",
      "\u001b[38;5;2m✔ Download and installation successful\u001b[0m\n",
      "You can now load the package via spacy.load('en_core_web_md')\n",
      "Note: you may need to restart the kernel to use updated packages.\n",
      "Note: you may need to restart the kernel to use updated packages.\n"
     ]
    }
   ],
   "source": [
    "%pip install -U pip setuptools wheel\n",
    "%pip install \"spacy==3.7.6\"\n",
    "!python -m spacy download en_core_web_md\n",
    "%pip install -q nest_asyncio\n",
    "\n",
    "# make sure it's installed for THIS kernel\n",
    "%pip install -q nest_asyncio\n",
    "\n",
    "import asyncio\n",
    "import nest_asyncio\n",
    "\n",
    "# allow re-entering the running loop (the magic sauce)\n",
    "nest_asyncio.apply()\n",
    "\n",
    "def run_async(coro):\n",
    "    \"\"\"\n",
    "    Safely run an async coroutine both:\n",
    "    - in a normal Python script, and\n",
    "    - inside a Jupyter/VS Code notebook (already-running loop)\n",
    "    \"\"\"\n",
    "    try:\n",
    "        # Works in plain scripts\n",
    "        return asyncio.run(coro)\n",
    "    except RuntimeError:\n",
    "        # Notebook: loop is already running\n",
    "        loop = asyncio.get_event_loop()\n",
    "        return loop.run_until_complete(coro)\n",
    "\n",
    "\n"
   ]
  },
  {
   "cell_type": "code",
   "execution_count": 3,
   "id": "a1cbe47d",
   "metadata": {},
   "outputs": [
    {
     "name": "stdout",
     "output_type": "stream",
     "text": [
      "groq ok: 0.20.0\n",
      "pdfplumber ok\n",
      "spacy ok: 3.7.6\n",
      "sbert ok: SentenceTransformer\n"
     ]
    }
   ],
   "source": [
    "import groq, pdfplumber, spacy, nest_asyncio\n",
    "from sentence_transformers import SentenceTransformer\n",
    "\n",
    "print(\"groq ok:\", groq.__version__)\n",
    "print(\"pdfplumber ok\")\n",
    "print(\"spacy ok:\", spacy.__version__)\n",
    "print(\"sbert ok:\", SentenceTransformer.__name__)\n"
   ]
  },
  {
   "cell_type": "code",
   "execution_count": 4,
   "id": "67736208",
   "metadata": {},
   "outputs": [
    {
     "name": "stdout",
     "output_type": "stream",
     "text": [
      "Key: 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\n"
     ]
    }
   ],
   "source": [
    "import os\n",
    "from dotenv import load_dotenv\n",
    "from pathlib import Path\n",
    "\n",
    "load_dotenv(dotenv_path=Path.cwd() / \".env\")\n",
    "print(\"Key:\", os.getenv(\"GROQ_API_KEY\"))"
   ]
  },
  {
   "cell_type": "code",
   "execution_count": 5,
   "id": "4144ed26-852c-4bcf-93c8-cd6b97dae40e",
   "metadata": {
    "execution": {
     "iopub.execute_input": "2025-10-01T06:16:05.018687Z",
     "iopub.status.busy": "2025-10-01T06:16:05.018073Z",
     "iopub.status.idle": "2025-10-01T06:16:20.528817Z",
     "shell.execute_reply": "2025-10-01T06:16:20.527988Z",
     "shell.execute_reply.started": "2025-10-01T06:16:05.018654Z"
    }
   },
   "outputs": [
    {
     "name": "stdout",
     "output_type": "stream",
     "text": [
      "sys.path OK: C:\\Users\\maitha.alhammadi\\projects\\RL_2025\\src\n"
     ]
    },
    {
     "name": "stderr",
     "output_type": "stream",
     "text": [
      "[nltk_data] Downloading package punkt to\n",
      "[nltk_data]     C:\\Users\\maitha.alhammadi\\AppData\\Roaming\\nltk_data...\n",
      "[nltk_data]   Package punkt is already up-to-date!\n"
     ]
    },
    {
     "name": "stdout",
     "output_type": "stream",
     "text": [
      "GROQ key prefix: gsk_WQGM ...OK\n",
      "Backend modules loaded.\n"
     ]
    }
   ],
   "source": [
    "# --- make src/ importable ---\n",
    "import sys, os\n",
    "from pathlib import Path\n",
    "\n",
    "SRC = (Path.cwd() / \"src\").resolve()\n",
    "if str(SRC) not in sys.path:\n",
    "    sys.path.insert(0, str(SRC))\n",
    "\n",
    "print(\"sys.path OK:\", sys.path[0])\n",
    "\n",
    "# --- backend imports (your 4 RL files) ---\n",
    "from backend.state import encode_state\n",
    "from backend.rl_agent import RLAgent\n",
    "from backend.reward import feedback_reward\n",
    "from backend.retrieval_policies import action_to_filter\n",
    "\n",
    "# --- RAG + LLM (your existing code) ---\n",
    "from backend.rag_process import rag_process\n",
    "from backend.ghg_assistant import GHGAssistant\n",
    "\n",
    "print(\"Backend modules loaded.\")\n"
   ]
  },
  {
   "cell_type": "code",
   "execution_count": 6,
   "id": "7a4fff53-d9b4-49a6-906b-3c119fec18b0",
   "metadata": {
    "execution": {
     "iopub.execute_input": "2025-10-01T06:16:20.529815Z",
     "iopub.status.busy": "2025-10-01T06:16:20.529571Z",
     "iopub.status.idle": "2025-10-01T06:16:20.534469Z",
     "shell.execute_reply": "2025-10-01T06:16:20.533619Z",
     "shell.execute_reply.started": "2025-10-01T06:16:20.529796Z"
    }
   },
   "outputs": [
    {
     "name": "stdout",
     "output_type": "stream",
     "text": [
      "Key prefix: gsk_WQGM ...OK\n"
     ]
    }
   ],
   "source": [
    "# If your assistant requires GROQ_API_KEY in env:\n",
    "try:\n",
    "    from dotenv import load_dotenv\n",
    "    # load .env at repo root if present\n",
    "    load_dotenv(dotenv_path=Path.cwd() / \".env\")\n",
    "except Exception:\n",
    "    pass\n",
    "\n",
    "assert os.getenv(\"GROQ_API_KEY\"), \"GROQ_API_KEY not found. export it or put it in .env\"\n",
    "print(\"Key prefix:\", os.getenv(\"GROQ_API_KEY\")[:8], \"...OK\")\n"
   ]
  },
  {
   "cell_type": "code",
   "execution_count": 7,
   "id": "421101fc-2b63-498a-8396-4378ba0aa69a",
   "metadata": {},
   "outputs": [],
   "source": [
    "import asyncio\n",
    "import nest_asyncio\n",
    "\n",
    "def run_async(coro):\n",
    "    \"\"\"\n",
    "    Run an async coroutine safely from a notebook OR a normal script.\n",
    "    - In a notebook (loop already running): reuse it via nest_asyncio.\n",
    "    - In a script: create a fresh loop with asyncio.run.\n",
    "    \"\"\"\n",
    "    try:\n",
    "        loop = asyncio.get_running_loop()\n",
    "    except RuntimeError:\n",
    "        loop = None\n",
    "\n",
    "    if loop and loop.is_running():\n",
    "        nest_asyncio.apply(loop)            # patch the running loop once\n",
    "        return loop.run_until_complete(coro)\n",
    "    else:\n",
    "        return asyncio.run(coro)\n"
   ]
  },
  {
   "cell_type": "code",
   "execution_count": 8,
   "id": "43f90113",
   "metadata": {},
   "outputs": [],
   "source": [
    "# --- make src/ importable ---\n",
    "import sys\n",
    "from pathlib import Path\n",
    "\n",
    "SRC = (Path.cwd() / \"src\").resolve()\n",
    "if str(SRC) not in sys.path:\n",
    "    sys.path.insert(0, str(SRC))\n",
    "\n",
    "# --- imports from backend ---\n",
    "from backend.rl_agent import RLAgent\n",
    "from backend.rag_process import rag_process\n",
    "from backend.ghg_assistant import GHGAssistant\n"
   ]
  },
  {
   "cell_type": "code",
   "execution_count": 9,
   "id": "fba37170-746a-44fa-8ce5-f101e74d0422",
   "metadata": {
    "execution": {
     "iopub.execute_input": "2025-10-01T06:16:20.536326Z",
     "iopub.status.busy": "2025-10-01T06:16:20.535967Z",
     "iopub.status.idle": "2025-10-01T06:16:26.355315Z",
     "shell.execute_reply": "2025-10-01T06:16:26.354458Z",
     "shell.execute_reply.started": "2025-10-01T06:16:20.536306Z"
    }
   },
   "outputs": [
    {
     "name": "stderr",
     "output_type": "stream",
     "text": [
      "Failed to send telemetry event ClientStartEvent: capture() takes 1 positional argument but 3 were given\n",
      "Failed to send telemetry event ClientCreateCollectionEvent: capture() takes 1 positional argument but 3 were given\n"
     ]
    },
    {
     "name": "stdout",
     "output_type": "stream",
     "text": [
      "Agent, RAG and Assistant are ready.\n"
     ]
    }
   ],
   "source": [
    "\n",
    "# RL agent persists its Q-table under src/data/q_table.json\n",
    "agent = RLAgent()\n",
    "\n",
    "# Your RAG layer + assistant (as in your repo)\n",
    "rag = rag_process()\n",
    "assistant = GHGAssistant()\n",
    "\n",
    "print(\"Agent, RAG and Assistant are ready.\")\n"
   ]
  },
  {
   "cell_type": "code",
   "execution_count": 10,
   "id": "6fc79a86-e0ae-42f6-bcaf-8299461034bb",
   "metadata": {
    "execution": {
     "iopub.execute_input": "2025-10-01T06:16:26.356737Z",
     "iopub.status.busy": "2025-10-01T06:16:26.356332Z",
     "iopub.status.idle": "2025-10-01T06:16:26.363141Z",
     "shell.execute_reply": "2025-10-01T06:16:26.362046Z",
     "shell.execute_reply.started": "2025-10-01T06:16:26.356705Z"
    }
   },
   "outputs": [],
   "source": [
    "from typing import List, Dict, Any, Tuple\n",
    "\n",
    "def retrieve_chunks(question: str, action: str, company_name: str | None) -> Tuple[List[str], List[Dict[str, Any]]]:\n",
    "    \"\"\"Converts the chosen action into a metadata filter and queries your RAG.\"\"\"\n",
    "    meta = action_to_filter(action, company_name)\n",
    "    try:\n",
    "        # If you already extended `query_documents` to accept metadata_filter\n",
    "        chunks, metas = rag.query_documents(question=question, n_results=4, metadata_filter=meta)\n",
    "    except TypeError:\n",
    "        # Backward-compatible path if your method doesn't take metadata_filter yet\n",
    "        chunks, metas = rag.query_documents(question=question, n_results=4)\n",
    "    return chunks, metas\n",
    "\n",
    "def format_context(chunks: List[str], metas: List[Dict[str, Any]]) -> str:\n",
    "    \"\"\"Optional: pretty join chunks + sources.\"\"\"\n",
    "    formatted = []\n",
    "    for ch, md in zip(chunks, metas):\n",
    "        src = md.get(\"source\", \"Unknown\")\n",
    "        pg  = md.get(\"page\") or md.get(\"chunk_number\")\n",
    "        tag = f\"{src}\" + (f\" (p.{pg})\" if pg else \"\")\n",
    "        formatted.append(f\"Source: {tag}\\n{ch}\")\n",
    "    return \"\\n\\n---\\n\\n\".join(formatted)\n"
   ]
  },
  {
   "cell_type": "code",
   "execution_count": 11,
   "id": "11117715-352b-4760-a53a-e33ba2994f49",
   "metadata": {
    "execution": {
     "iopub.execute_input": "2025-10-01T06:16:26.364562Z",
     "iopub.status.busy": "2025-10-01T06:16:26.363895Z",
     "iopub.status.idle": "2025-10-01T06:16:26.368403Z",
     "shell.execute_reply": "2025-10-01T06:16:26.367378Z",
     "shell.execute_reply.started": "2025-10-01T06:16:26.364500Z"
    }
   },
   "outputs": [],
   "source": [
    "# We'll keep the last (state, action) so you can send 👍/👎 afterwards\n",
    "last_step = {\n",
    "    \"state\": None,\n",
    "    \"action\": None,\n",
    "    \"company\": None,\n",
    "    \"response\": None\n",
    "}\n"
   ]
  },
  {
   "cell_type": "code",
   "execution_count": 12,
   "id": "0777b125-898e-40ca-8e7f-08b679f505d9",
   "metadata": {
    "execution": {
     "iopub.execute_input": "2025-10-01T06:16:26.369606Z",
     "iopub.status.busy": "2025-10-01T06:16:26.369130Z",
     "iopub.status.idle": "2025-10-01T06:16:26.375545Z",
     "shell.execute_reply": "2025-10-01T06:16:26.374689Z",
     "shell.execute_reply.started": "2025-10-01T06:16:26.369575Z"
    }
   },
   "outputs": [],
   "source": [
    "def ask(prompt: str, company_info: dict | None = None) -> str:\n",
    "    \"\"\"\n",
    "    1) Build RL state from prompt + company_info\n",
    "    2) Choose action via RL\n",
    "    3) Retrieve chunks respecting the action (filter)\n",
    "    4) Ask the assistant\n",
    "    5) Cache state/action so you can call thumb_up()/thumb_down() afterwards\n",
    "    \"\"\"\n",
    "    # 1) state\n",
    "    s = encode_state(prompt, company_info or {})\n",
    "\n",
    "    # 2) RL action\n",
    "    a = agent.select(s)\n",
    "\n",
    "    # 3) retrieval\n",
    "    company_name = (company_info or {}).get(\"name\")\n",
    "    chunks, metas = retrieve_chunks(prompt, a, company_name)\n",
    "    context = format_context(chunks, metas)\n",
    "\n",
    "    # 4) assistant\n",
    "    # Your GHGAssistant uses: await generate_response(user_prompt, context)\n",
    "    # This wrapper calls it synchronously.\n",
    "    import asyncio\n",
    "    async def _call():\n",
    "        return await assistant.generate_response(user_prompt=prompt, context=context)\n",
    "    try:\n",
    "        answer = asyncio.run(_call())\n",
    "    except RuntimeError:\n",
    "        # If there's already an event loop (sometimes happens in notebooks)\n",
    "        answer = asyncio.get_event_loop().run_until_complete(_call())\n",
    "\n",
    "    # 5) remember for feedback\n",
    "    last_step.update(state=s, action=a, company=company_info, response=answer)\n",
    "\n",
    "    print(f\"[Action] {a}\")\n",
    "    return answer\n"
   ]
  },
  {
   "cell_type": "code",
   "execution_count": 13,
   "id": "a555125d-c0cc-443f-87b6-605e00f06f97",
   "metadata": {
    "execution": {
     "iopub.execute_input": "2025-10-01T06:16:26.377118Z",
     "iopub.status.busy": "2025-10-01T06:16:26.376788Z",
     "iopub.status.idle": "2025-10-01T06:16:26.384003Z",
     "shell.execute_reply": "2025-10-01T06:16:26.383328Z",
     "shell.execute_reply.started": "2025-10-01T06:16:26.377090Z"
    }
   },
   "outputs": [],
   "source": [
    "from datetime import datetime\n",
    "import csv\n",
    "\n",
    "LOG_PATH = (SRC / \"data\" / \"rl_logs.csv\")\n",
    "LOG_PATH.parent.mkdir(parents=True, exist_ok=True)\n",
    "\n",
    "def _log_feedback(state, action, tag):\n",
    "    LOG_PATH.parent.mkdir(parents=True, exist_ok=True)\n",
    "    new_file = not LOG_PATH.exists()\n",
    "    with LOG_PATH.open(\"a\", newline=\"\", encoding=\"utf-8\") as f:\n",
    "        w = csv.writer(f)\n",
    "        if new_file:\n",
    "            w.writerow([\"ts\", \"action\", \"tag\"])\n",
    "        w.writerow([datetime.utcnow().isoformat(), action, tag])\n",
    "\n",
    "def thumb_up():\n",
    "    assert last_step[\"state\"] is not None, \"Call ask(...) first.\"\n",
    "    r = feedback_reward(\"up\")\n",
    "    agent.update(last_step[\"state\"], last_step[\"action\"], r)\n",
    "    _log_feedback(last_step[\"state\"], last_step[\"action\"], \"up\")\n",
    "    print(\"👍 thanks — learning updated.\")\n",
    "\n",
    "def thumb_down():\n",
    "    assert last_step[\"state\"] is not None, \"Call ask(...) first.\"\n",
    "    r = feedback_reward(\"down\")\n",
    "    agent.update(last_step[\"state\"], last_step[\"action\"], r)\n",
    "    _log_feedback(last_step[\"state\"], last_step[\"action\"], \"down\")\n",
    "    print(\"👎 got it — learning updated.\")\n"
   ]
  },
  {
   "cell_type": "code",
   "execution_count": 14,
   "id": "87793efa",
   "metadata": {},
   "outputs": [
    {
     "name": "stderr",
     "output_type": "stream",
     "text": [
      "Failed to send telemetry event ClientStartEvent: capture() takes 1 positional argument but 3 were given\n",
      "Failed to send telemetry event ClientCreateCollectionEvent: capture() takes 1 positional argument but 3 were given\n"
     ]
    },
    {
     "name": "stdout",
     "output_type": "stream",
     "text": [
      "Backend modules loaded.\n"
     ]
    }
   ],
   "source": [
    "# --- make src/ importable ---\n",
    "import sys\n",
    "from pathlib import Path\n",
    "\n",
    "SRC = (Path.cwd() / \"src\").resolve()\n",
    "if str(SRC) not in sys.path:\n",
    "    sys.path.insert(0, str(SRC))\n",
    "\n",
    "# --- backend imports ---\n",
    "from backend.state import encode_state\n",
    "from backend.rl_agent import RLAgent\n",
    "from backend.reward import feedback_reward\n",
    "from backend.retrieval_policies import action_to_filter   # <- this fixes the error\n",
    "from backend.rag_process import rag_process\n",
    "from backend.ghg_assistant import GHGAssistant\n",
    "\n",
    "# --- init singletons ---\n",
    "agent = RLAgent()\n",
    "rag = rag_process()\n",
    "assistant = GHGAssistant()\n",
    "\n",
    "print(\"Backend modules loaded.\")\n"
   ]
  },
  {
   "cell_type": "code",
   "execution_count": 15,
   "id": "e6d04763",
   "metadata": {},
   "outputs": [
    {
     "name": "stdout",
     "output_type": "stream",
     "text": [
      "[Exploit] Best action: legal_only with Q=1.147\n"
     ]
    },
    {
     "name": "stderr",
     "output_type": "stream",
     "text": [
      "Failed to send telemetry event ClientStartEvent: capture() takes 1 positional argument but 3 were given\n",
      "Failed to send telemetry event ClientCreateCollectionEvent: capture() takes 1 positional argument but 3 were given\n",
      "Failed to send telemetry event CollectionQueryEvent: capture() takes 1 positional argument but 3 were given\n"
     ]
    },
    {
     "name": "stdout",
     "output_type": "stream",
     "text": [
      "ACTION: legal_only\n",
      "ANSWER: Under the National Greenhouse and Energy Reporting (NGER) scheme, non-compliance can result in penalties. The Clean Energy Regulator (CER) is responsible for enforcing compliance. \n",
      "\n",
      "For corporations, the maximum penalty for non-compliance is 12,600 penalty units for each offense, which currently translates to AUD 2,664,000 (1 penalty unit = AUD 222). \n",
      "\n",
      "For individuals, the maximum penalty is 240 penalty units or AUD 53,280, and/or 6 months imprisonment for each offense.\n",
      "\n",
      "Additionally, failure to comply with NGER requirements can lead to infringement notices, with a penalty of 20 penalty units for corporations (AUD 4,440) and 4 penalty units for individuals (AUD 888).\n",
      "\n",
      "It's crucial for Australian companies to maintain accurate records, submit reports on time, and ensure data quality to avoi\n",
      "[Update] State={\"len\": \"short\", \"month\": \"2025-10\", \"sector\": \"energy\", \"size\": \"large\", \"topic\": \"legal\"}, Action=legal_only, OldQ=1.147, Reward=1.0, Target=2.032, NewQ=1.413\n"
     ]
    }
   ],
   "source": [
    "from backend.rl_agent import RLAgent\n",
    "from backend.pipeline import answer_with_rl\n",
    "from backend.reward import feedback_reward  # your thumbs → ±1 mapper\n",
    "\n",
    "agent = RLAgent(verbose=True)  # keep verbose to see [Exploit]/[Explore] + [Update]\n",
    "company = {\"name\": \"Acme\", \"sector\": \"energy\", \"size\": \"large\"}\n",
    "\n",
    "ans, action, chunks, metas, s = answer_with_rl(\n",
    "    \"What penalties apply under NGER non-compliance?\",\n",
    "    company,\n",
    "    agent\n",
    ")\n",
    "print(\"ACTION:\", action)\n",
    "print(\"ANSWER:\", ans[:800])\n",
    "\n",
    "# Provide feedback (simulate thumbs)\n",
    "r = feedback_reward(\"up\")   # \"up\" or \"down\"\n",
    "agent.update(s, action, r, s)  # next_state = s is OK if you don't change state"
   ]
  },
  {
   "cell_type": "code",
   "execution_count": 16,
   "id": "4cc9fc15",
   "metadata": {},
   "outputs": [
    {
     "name": "stdout",
     "output_type": "stream",
     "text": [
      "[Exploit] Best action: company_only with Q=0.300\n",
      "[Update] State={\"len\": \"short\", \"month\": \"2025-10\", \"sector\": \"energy\", \"size\": \"large\", \"topic\": \"ghg\"}, Action=company_only, OldQ=0.300, Reward=1.0, Target=1.270, NewQ=0.591\n",
      "Q row: {'broad': -0.09000000000000002, 'legal_only': 0.19470000000000004, 'financial_only': 0.0, 'company_only': 0.591}\n",
      "Best action: company_only\n",
      "[Exploit] Best action: company_only with Q=0.591\n",
      "[Action] company_only\n",
      "\n",
      "Assistant:\n",
      " To calculate emissions from pneumatic pumps in Australia, follow these steps:\n",
      "\n",
      "1. **Determine the type of fuel used**: Identify the fuel source powering the pneumatic pumps, such as electricity, natural gas, or diesel. This will help you calculate the emissions under the correct scope (Scope 1 for direct emissions or Scope 2 for indirect emissions from electricity use).\n",
      "\n",
      "2. **Measure energy consumption**: Record the energy consumption of the pneumatic pumps in units of energy relevant to the fuel type (e.g., kilowatt-hours (kWh) for electricity, megajoules (MJ) for natural gas, or liters for diesel).\n",
      "\n",
      "3. **Calculate Scope 1 emissions (if applicable)**: For pumps powered by fuels like natural gas or diesel, use the National Greenhouse and Energy Reporting (NGER) Scheme's emission factors to calculate Scope 1 emissions. The NGER Scheme provides default emission factors for various fuel types.\n",
      "\n",
      "4. **Calculate Scope 2 emissions (if applicable)**: For electrically powered pumps, use the NGER Scheme's grid emission factors to calculate Scope 2 emissions. These factors account for the emissions associated with the generation of electricity used by the pumps.\n",
      "\n",
      "5. **Consider Scope 3 emissions**: While not always required, consider whether your company needs to report Scope 3 emissions under the Treasury Act 2024 or other Australian regulations. Scope 3 emissions might include those from the production and transportation of fuels used in the pneumatic pumps.\n",
      "\n",
      "6. **Apply the Australian emission factors**: Use the most recent emission factors available from the Australian Government's Department of Climate Change, Energy, the Environment and Water to ensure accuracy and compliance with Australian regulations.\n",
      "\n",
      "7. **Maintain accurate records**: Keep detailed records of the calculations, including energy consumption data, emission factors used, and the resulting emissions totals. This will facilitate auditing and compliance with regulatory requirements.\n",
      "\n",
      "8. **Report emissions as required**: Include the calculated emissions from pneumatic pumps in your company's climate disclosure report, structured according to the Australian Securities and Investments Commission (ASIC) and the Australian Securities Exchange (ASX) guidelines, and aligned with the Australian Standard on Reporting of Sustainability (ASRS) if applicable.\n",
      "\n",
      "Please note, if you have insufficient data on energy consumption or specific details about the pneumatic pumps, it may be challenging to provide an accurate calculation. Ensure you have all necessary information before proceeding with the emissions calculation.\n",
      "\n",
      "**Disclaimer:** Be mindful that this is an AI assistant. Please consult with a professional before proceeding.\n"
     ]
    }
   ],
   "source": [
    "from backend.rl_agent import RLAgent\n",
    "from backend.state import encode_state\n",
    "\n",
    "agent = RLAgent(verbose=True)\n",
    "\n",
    "company = {\"name\":\"Acme\",\"sector\":\"energy\",\"size\":\"large\"}\n",
    "s = encode_state(\"How do we cut Scope 3 next year?\", company)\n",
    "\n",
    "a = agent.select(s)\n",
    "r = +1.0\n",
    "agent.update(s, a, r, s)\n",
    "\n",
    "print(\"Q row:\", agent.q_for(s))\n",
    "print(\"Best action:\", agent.best_action(s))\n",
    "answer = ask(\"Can you give me steps of calculating pneumatic punp emissions in Australia?\", company)\n",
    "print(\"\\nAssistant:\\n\", answer)"
   ]
  },
  {
   "cell_type": "code",
   "execution_count": 18,
   "id": "87e16365",
   "metadata": {},
   "outputs": [
    {
     "name": "stdout",
     "output_type": "stream",
     "text": [
      "[Update] State={\"len\": \"short\", \"month\": \"2025-10\", \"sector\": \"energy\", \"size\": \"large\", \"topic\": \"ghg\"}, Action=company_only, OldQ=0.114, Reward=-1.0, Target=-1.000, NewQ=-0.220\n",
      "👎 got it — learning updated.\n"
     ]
    }
   ],
   "source": [
    "thumb_down()"
   ]
  },
  {
   "cell_type": "code",
   "execution_count": 19,
   "id": "c04c625b-845a-412e-90ae-780310c17467",
   "metadata": {
    "execution": {
     "iopub.execute_input": "2025-10-01T06:39:26.019015Z",
     "iopub.status.busy": "2025-10-01T06:39:26.018733Z",
     "iopub.status.idle": "2025-10-01T06:39:27.606923Z",
     "shell.execute_reply": "2025-10-01T06:39:27.606237Z",
     "shell.execute_reply.started": "2025-10-01T06:39:26.018984Z"
    }
   },
   "outputs": [
    {
     "name": "stdout",
     "output_type": "stream",
     "text": [
      "[Exploit] Best action: legal_only with Q=0.195\n",
      "[Action] legal_only\n",
      "\n",
      "Assistant:\n",
      " As an Australian company, you are likely subject to the Australian government's climate change policies, including the Safeguard Mechanism and potential future carbon pricing mechanisms. The financial risks of carbon pricing for your company can be significant and should be carefully assessed.\n",
      "\n",
      "**Direct Costs:**\n",
      "\n",
      "1. **Safeguard Mechanism**: If your company has facilities with emissions above 100,000 tonnes CO2-e per year, you may be required to surrender Australian Carbon Credit Units (ACCUs) or pay a fixed charge for excess emissions. This can result in direct costs to your business.\n",
      "2. **Fuel Tax and Other Levies**: Changes to fuel tax and other levies can increase the cost of energy and transportation for your company.\n",
      "\n",
      "**Indirect Costs:**\n",
      "\n",
      "1. **Increased Energy Costs**: Carbon pricing can lead to higher energy costs, as electricity and fuel generators pass on the cost of emissions to consumers.\n",
      "2. **Supply Chain Risks**: Your company may face increased costs from suppliers who are also subject to carbon pricing, which can impact your profitability.\n",
      "3. **Market Risks**: Carbon pricing can create market risks, such as changes in consumer behavior, competitor actions, and potential disruptions to your supply chain.\n",
      "\n",
      "**Strategic Risks:**\n",
      "\n",
      "1. **Regulatory Uncertainty**: Changes to carbon pricing policies and regulations can create uncertainty, making it challenging for your company to plan and invest for the future.\n",
      "2. **Reputation and Brand Risk**: Failure to manage carbon pricing risks can damage your company's reputation and brand, potentially impacting customer loyalty and revenue.\n",
      "3. **Competitiveness**: Inadequate management of carbon pricing risks can affect your company's competitiveness, particularly if your peers are better equipped to manage these risks.\n",
      "\n",
      "To mitigate these risks, consider the following:\n",
      "\n",
      "1. **Conduct a carbon footprint analysis** to understand your company's emissions profile and identify areas for reduction.\n",
      "2. **Develop a carbon pricing strategy** that includes scenarios for different carbon pricing mechanisms and levels.\n",
      "3. **Invest in energy efficiency** and low-carbon technologies to reduce your company's emissions and dependence on fossil fuels.\n",
      "4. **Engage with stakeholders**, including suppliers, customers, and investors, to understand their expectations and manage potential risks.\n",
      "5. **Monitor regulatory developments** and participate in industry consultations to stay informed and shape the development of carbon pricing policies.\n",
      "\n",
      "By understanding and addressing these financial risks, your company can better navigate the challenges and opportunities presented by carbon pricing in Australia.\n"
     ]
    }
   ],
   "source": [
    "answer = ask(\"What are the financial risks of carbon pricing for us?\", company)\n",
    "print(\"\\nAssistant:\\n\", answer)\n"
   ]
  },
  {
   "cell_type": "code",
   "execution_count": 20,
   "id": "9b423186-a1c7-495e-a49b-37b8b1970400",
   "metadata": {
    "execution": {
     "iopub.execute_input": "2025-10-01T06:30:56.505280Z",
     "iopub.status.busy": "2025-10-01T06:30:56.504985Z",
     "iopub.status.idle": "2025-10-01T06:30:56.510220Z",
     "shell.execute_reply": "2025-10-01T06:30:56.509436Z",
     "shell.execute_reply.started": "2025-10-01T06:30:56.505258Z"
    }
   },
   "outputs": [
    {
     "name": "stdout",
     "output_type": "stream",
     "text": [
      "[Update] State={\"len\": \"short\", \"month\": \"2025-10\", \"sector\": \"energy\", \"size\": \"large\", \"topic\": \"ghg\"}, Action=legal_only, OldQ=0.195, Reward=1.0, Target=1.000, NewQ=0.436\n",
      "👍 thanks — learning updated.\n"
     ]
    }
   ],
   "source": [
    "thumb_up()    # or: thumb_down()\n"
   ]
  },
  {
   "cell_type": "code",
   "execution_count": 36,
   "id": "7b59ce04-c8f9-4561-a84a-c5a410bbf198",
   "metadata": {
    "execution": {
     "iopub.execute_input": "2025-10-01T06:31:21.487417Z",
     "iopub.status.busy": "2025-10-01T06:31:21.487137Z",
     "iopub.status.idle": "2025-10-01T06:31:23.457854Z",
     "shell.execute_reply": "2025-10-01T06:31:23.457094Z",
     "shell.execute_reply.started": "2025-10-01T06:31:21.487396Z"
    }
   },
   "outputs": [
    {
     "name": "stdout",
     "output_type": "stream",
     "text": [
      "[Exploit] Best action: broad with Q=0.000\n",
      "[Action] broad\n",
      "\n",
      "Assistant:\n",
      " To ensure the accuracy and consistency of GHG emissions data, Australian companies can follow these steps:\n",
      "\n",
      "1. **Establish a robust data collection system**: Implement a reliable and transparent data collection process, using primary data sources, such as meter readings, fuel consumption records, and production data.\n",
      "2. **Use accepted methodologies and factors**: Apply the National Greenhouse and Energy Reporting (NGER) Scheme's methodologies and factors, as well as the Australian Government's National Inventory Report, to calculate emissions.\n",
      "3. **Conduct regular data quality checks**: Verify data for completeness, accuracy, and consistency, and address any discrepancies or gaps.\n",
      "4. **Engage independent review and assurance**: Consider hiring external experts to review and assure the accuracy of emissions data, as required by the Corporations Act 2001 and the Australian Securities and Investments Commission (ASIC) guidance.\n",
      "5. **Maintain transparent and auditable records**: Keep detailed records of data collection, calculation, and reporting processes, to ensure transparency and facilitate audits.\n",
      "\n",
      "Inaccurate reporting can lead to:\n",
      "\n",
      "1. **Non-compliance with regulations**: Failure to meet the requirements of the NGER Scheme, the Treasury Act 2024, and other Australian laws, resulting in potential fines and penalties.\n",
      "2. **Reputational damage**: Inaccurate reporting can damage a company's reputation and credibility, affecting stakeholder trust and confidence.\n",
      "3. **Financial consequences**: Inaccurate reporting can lead to incorrect emissions pricing, potentially resulting in financial losses or overpayment of emissions-related costs.\n",
      "4. **Inadequate decision-making**: Inaccurate emissions data can inform poor decision-making, hindering a company's ability to develop effective emissions reduction strategies.\n",
      "5. **ASIC and ASX scrutiny**: Inaccurate reporting may attract the attention of ASIC and the Australian Securities Exchange (ASX), potentially leading to investigations, fines, or other enforcement actions.\n",
      "\n",
      "To avoid these consequences, companies should prioritize data accuracy, transparency, and consistency, and engage with experts and regulators to ensure compliance with Australian GHG emissions reporting requirements.\n",
      "\n",
      "**Disclaimer:** Be mindful that this is an AI assistant. Please consult with a professional before proceeding.\n"
     ]
    }
   ],
   "source": [
    "answer = ask(\"How can companies ensure the accuracy and consistency of their GHG emissions data, and what are the consequences of inaccurate reporting?\", company)\n",
    "print(\"\\nAssistant:\\n\", answer)\n"
   ]
  },
  {
   "cell_type": "code",
   "execution_count": 37,
   "id": "b1834aee-b285-4d84-938f-b478d21d8c28",
   "metadata": {},
   "outputs": [
    {
     "name": "stdout",
     "output_type": "stream",
     "text": [
      "[Update] State={\"len\": \"medium\", \"month\": \"2025-10\", \"sector\": \"energy\", \"size\": \"large\", \"topic\": \"ghg\"}, Action=broad, OldQ=0.000, Reward=1.0, Target=1.000, NewQ=0.300\n",
      "👍 thanks — learning updated.\n"
     ]
    }
   ],
   "source": [
    "thumb_up()\n"
   ]
  },
  {
   "cell_type": "code",
   "execution_count": 23,
   "id": "6bd0dbdd",
   "metadata": {},
   "outputs": [
    {
     "name": "stdout",
     "output_type": "stream",
     "text": [
      "[Exploit] Best action: company_only with Q=0.300\n",
      "[Action] company_only\n",
      "\n",
      "Assistant:\n",
      " This digital consultant specializes in Australian GHG emission regulations. Please rephrase your question to focus on topics such as compliance, emission calculations, or scope definitions related to GHG emissions.\n"
     ]
    }
   ],
   "source": [
    "answer = ask(\"How to increase the company profit\", company)\n",
    "print(\"\\nAssistant:\\n\", answer)\n"
   ]
  },
  {
   "cell_type": "code",
   "execution_count": 24,
   "id": "38dece1e",
   "metadata": {},
   "outputs": [
    {
     "name": "stdout",
     "output_type": "stream",
     "text": [
      "[Update] State={\"len\": \"short\", \"month\": \"2025-10\", \"sector\": \"energy\", \"size\": \"large\", \"topic\": \"fin\"}, Action=company_only, OldQ=0.300, Reward=1.0, Target=1.000, NewQ=0.510\n",
      "👍 thanks — learning updated.\n"
     ]
    }
   ],
   "source": [
    "thumb_up()\n"
   ]
  },
  {
   "cell_type": "code",
   "execution_count": 25,
   "id": "bdc752fe",
   "metadata": {},
   "outputs": [
    {
     "name": "stdout",
     "output_type": "stream",
     "text": [
      "[Exploit] Best action: legal_only with Q=0.436\n",
      "[Action] legal_only\n",
      "\n",
      "Assistant:\n",
      " Under Australia's climate disclosure regulations, effective from 2025, companies must consider the financial risks associated with carbon taxes. The Australian government has implemented various policies to reduce greenhouse gas emissions, including the Safeguard Mechanism, which imposes a carbon tax on large emitters.\n",
      "\n",
      "The financial risks posed by carbon taxes to Australian companies include:\n",
      "\n",
      "1. **Increased operational costs**: Carbon taxes can increase the cost of production, transportation, and other business operations, potentially reducing profit margins.\n",
      "2. **Compliance costs**: Companies may need to invest in new technologies, processes, or systems to reduce their emissions and comply with carbon tax regulations, incurring additional costs.\n",
      "3. **Revenue risks**: Carbon taxes can lead to higher prices for goods and services, potentially reducing demand and impacting revenue.\n",
      "4. **Competitiveness risks**: Companies that operate in industries with high emissions intensity may face competitive disadvantages if they are unable to pass on the cost of carbon taxes to customers.\n",
      "5. **Stranded asset risks**: Carbon taxes can render certain assets, such as coal-fired power plants or fossil fuel reserves, uneconomic or obsolete, leading to significant write-downs or losses.\n",
      "6. **Regulatory risks**: Changes to carbon tax policies or regulations can create uncertainty and increase the risk of non-compliance, fines, or reputational damage.\n",
      "7. **Supply chain risks**: Companies may face risks associated with suppliers or partners that are unable to comply with carbon tax regulations or reduce their emissions, potentially disrupting the supply chain.\n",
      "\n",
      "To manage these risks, Australian companies should:\n",
      "\n",
      "1. **Conduct a carbon risk assessment**: Identify and quantify the potential financial impacts of carbon taxes on their operations and supply chain.\n",
      "2. **Develop a carbon reduction strategy**: Implement measures to reduce emissions and minimize the impact of carbon taxes, such as investing in renewable energy or energy-efficient technologies.\n",
      "3. **Engage with stakeholders**: Collaborate with suppliers, customers, and investors to understand their expectations and develop strategies to manage carbon-related risks.\n",
      "4. **Monitor regulatory developments**: Stay informed about changes to carbon tax policies and regulations to ensure compliance and adapt to new requirements.\n",
      "5. **Disclose carbon-related risks**: Report on carbon-related risks and opportunities in their annual reports, using the Australian Securities Exchange (ASX) guidance and the Global Reporting Initiative (GRI) standards, as applicable.\n",
      "\n",
      "By understanding and managing the financial risks associated with carbon taxes, Australian companies can minimize their exposure and capitalize on opportunities in a low-carbon economy.\n"
     ]
    }
   ],
   "source": [
    "answer = ask(\"What financial risks do carbon taxes pose\", company)\n",
    "print(\"\\nAssistant:\\n\", answer)\n"
   ]
  },
  {
   "cell_type": "code",
   "execution_count": 27,
   "id": "dcbd1078",
   "metadata": {},
   "outputs": [
    {
     "name": "stdout",
     "output_type": "stream",
     "text": [
      "[Update] State={\"len\": \"short\", \"month\": \"2025-10\", \"sector\": \"energy\", \"size\": \"large\", \"topic\": \"ghg\"}, Action=legal_only, OldQ=0.605, Reward=1.0, Target=1.000, NewQ=0.724\n",
      "👍 thanks — learning updated.\n"
     ]
    }
   ],
   "source": [
    "thumb_up()\n"
   ]
  },
  {
   "cell_type": "code",
   "execution_count": 28,
   "id": "0fe96e95",
   "metadata": {},
   "outputs": [
    {
     "name": "stdout",
     "output_type": "stream",
     "text": [
      "[Explore] Random action: financial_only\n",
      "[Action] financial_only\n",
      "\n",
      "Assistant:\n",
      " Under Australia's climate disclosure regulations, effective from 2025, companies must consider the financial risks associated with carbon taxes. The Australian government has implemented various policies to reduce greenhouse gas emissions, including the Safeguard Mechanism, which imposes a carbon tax on large emitters.\n",
      "\n",
      "The financial risks posed by carbon taxes to Australian companies include:\n",
      "\n",
      "1. **Increased operational costs**: Carbon taxes can increase the cost of production, transportation, and other business operations, potentially reducing profit margins.\n",
      "2. **Compliance costs**: Companies may need to invest in new technologies, processes, or systems to reduce their emissions and comply with carbon tax regulations, incurring additional costs.\n",
      "3. **Revenue risks**: Carbon taxes can lead to higher prices for goods and services, potentially reducing demand and impacting revenue.\n",
      "4. **Competitiveness risks**: Companies that operate in industries with high emissions intensity may face competitive disadvantages if they are unable to pass on the cost of carbon taxes to customers.\n",
      "5. **Stranded asset risks**: Carbon taxes can render certain assets, such as coal-fired power plants or fossil fuel reserves, uneconomic or obsolete, leading to significant write-downs or losses.\n",
      "6. **Regulatory risks**: Changes to carbon tax policies or regulations can create uncertainty and increase the risk of non-compliance, fines, or reputational damage.\n",
      "7. **Supply chain risks**: Companies may face risks associated with suppliers or partners that are unable to comply with carbon tax regulations or reduce their emissions, potentially disrupting the supply chain.\n",
      "\n",
      "To manage these risks, Australian companies should:\n",
      "\n",
      "1. **Conduct a carbon risk assessment**: Identify and quantify the potential financial impacts of carbon taxes on their operations and supply chain.\n",
      "2. **Develop a carbon reduction strategy**: Implement measures to reduce emissions and minimize the impact of carbon taxes, such as investing in renewable energy or energy-efficient technologies.\n",
      "3. **Engage with stakeholders**: Collaborate with suppliers, customers, and investors to understand their expectations and develop strategies to manage carbon-related risks.\n",
      "4. **Monitor regulatory developments**: Stay informed about changes to carbon tax policies and regulations to ensure compliance and adapt to new requirements.\n",
      "5. **Disclose carbon-related risks**: Report on carbon-related risks and opportunities in their annual reports, using the Australian Securities Exchange (ASX) guidance and the Global Reporting Initiative (GRI) standards, as applicable.\n",
      "\n",
      "By understanding and managing the financial risks associated with carbon taxes, Australian companies can minimize their exposure and capitalize on opportunities in a low-carbon economy.\n"
     ]
    }
   ],
   "source": [
    "ask(\"Suggest the most cost-effective emission reduction policy\", company)\n",
    "print(\"\\nAssistant:\\n\", answer)"
   ]
  },
  {
   "cell_type": "code",
   "execution_count": 29,
   "id": "5fe08913",
   "metadata": {},
   "outputs": [
    {
     "name": "stdout",
     "output_type": "stream",
     "text": [
      "[Update] State={\"len\": \"short\", \"month\": \"2025-10\", \"sector\": \"energy\", \"size\": \"large\", \"topic\": \"legal\"}, Action=financial_only, OldQ=0.000, Reward=-1.0, Target=-1.000, NewQ=-0.300\n",
      "👎 got it — learning updated.\n"
     ]
    }
   ],
   "source": [
    "thumb_down()"
   ]
  },
  {
   "cell_type": "code",
   "execution_count": 30,
   "id": "87c94de4",
   "metadata": {},
   "outputs": [
    {
     "name": "stdout",
     "output_type": "stream",
     "text": [
      "[Exploit] Best action: legal_only with Q=1.413\n",
      "[Action] legal_only\n",
      "\n",
      "Assistant:\n",
      " Under Australia's climate disclosure regulations, effective from 2025, companies must consider the financial risks associated with carbon taxes. The Australian government has implemented various policies to reduce greenhouse gas emissions, including the Safeguard Mechanism, which imposes a carbon tax on large emitters.\n",
      "\n",
      "The financial risks posed by carbon taxes to Australian companies include:\n",
      "\n",
      "1. **Increased operational costs**: Carbon taxes can increase the cost of production, transportation, and other business operations, potentially reducing profit margins.\n",
      "2. **Compliance costs**: Companies may need to invest in new technologies, processes, or systems to reduce their emissions and comply with carbon tax regulations, incurring additional costs.\n",
      "3. **Revenue risks**: Carbon taxes can lead to higher prices for goods and services, potentially reducing demand and impacting revenue.\n",
      "4. **Competitiveness risks**: Companies that operate in industries with high emissions intensity may face competitive disadvantages if they are unable to pass on the cost of carbon taxes to customers.\n",
      "5. **Stranded asset risks**: Carbon taxes can render certain assets, such as coal-fired power plants or fossil fuel reserves, uneconomic or obsolete, leading to significant write-downs or losses.\n",
      "6. **Regulatory risks**: Changes to carbon tax policies or regulations can create uncertainty and increase the risk of non-compliance, fines, or reputational damage.\n",
      "7. **Supply chain risks**: Companies may face risks associated with suppliers or partners that are unable to comply with carbon tax regulations or reduce their emissions, potentially disrupting the supply chain.\n",
      "\n",
      "To manage these risks, Australian companies should:\n",
      "\n",
      "1. **Conduct a carbon risk assessment**: Identify and quantify the potential financial impacts of carbon taxes on their operations and supply chain.\n",
      "2. **Develop a carbon reduction strategy**: Implement measures to reduce emissions and minimize the impact of carbon taxes, such as investing in renewable energy or energy-efficient technologies.\n",
      "3. **Engage with stakeholders**: Collaborate with suppliers, customers, and investors to understand their expectations and develop strategies to manage carbon-related risks.\n",
      "4. **Monitor regulatory developments**: Stay informed about changes to carbon tax policies and regulations to ensure compliance and adapt to new requirements.\n",
      "5. **Disclose carbon-related risks**: Report on carbon-related risks and opportunities in their annual reports, using the Australian Securities Exchange (ASX) guidance and the Global Reporting Initiative (GRI) standards, as applicable.\n",
      "\n",
      "By understanding and managing the financial risks associated with carbon taxes, Australian companies can minimize their exposure and capitalize on opportunities in a low-carbon economy.\n"
     ]
    }
   ],
   "source": [
    "ask(\"what are GHG regulations in the UK\", company)\n",
    "print(\"\\nAssistant:\\n\", answer)"
   ]
  },
  {
   "cell_type": "code",
   "execution_count": 31,
   "id": "abb95eee",
   "metadata": {},
   "outputs": [
    {
     "name": "stdout",
     "output_type": "stream",
     "text": [
      "[Update] State={\"len\": \"short\", \"month\": \"2025-10\", \"sector\": \"energy\", \"size\": \"large\", \"topic\": \"legal\"}, Action=legal_only, OldQ=1.413, Reward=-1.0, Target=-1.000, NewQ=0.689\n",
      "👎 got it — learning updated.\n"
     ]
    }
   ],
   "source": [
    "thumb_down()"
   ]
  },
  {
   "cell_type": "code",
   "execution_count": 34,
   "id": "bfabdfbd",
   "metadata": {},
   "outputs": [
    {
     "name": "stdout",
     "output_type": "stream",
     "text": [
      "[Exploit] Best action: legal_only with Q=0.000\n",
      "[Action] legal_only\n",
      "\n",
      "Assistant:\n",
      " Under Australia's climate disclosure regulations, effective from 2025, companies must consider the financial risks associated with carbon taxes. The Australian government has implemented various policies to reduce greenhouse gas emissions, including the Safeguard Mechanism, which imposes a carbon tax on large emitters.\n",
      "\n",
      "The financial risks posed by carbon taxes to Australian companies include:\n",
      "\n",
      "1. **Increased operational costs**: Carbon taxes can increase the cost of production, transportation, and other business operations, potentially reducing profit margins.\n",
      "2. **Compliance costs**: Companies may need to invest in new technologies, processes, or systems to reduce their emissions and comply with carbon tax regulations, incurring additional costs.\n",
      "3. **Revenue risks**: Carbon taxes can lead to higher prices for goods and services, potentially reducing demand and impacting revenue.\n",
      "4. **Competitiveness risks**: Companies that operate in industries with high emissions intensity may face competitive disadvantages if they are unable to pass on the cost of carbon taxes to customers.\n",
      "5. **Stranded asset risks**: Carbon taxes can render certain assets, such as coal-fired power plants or fossil fuel reserves, uneconomic or obsolete, leading to significant write-downs or losses.\n",
      "6. **Regulatory risks**: Changes to carbon tax policies or regulations can create uncertainty and increase the risk of non-compliance, fines, or reputational damage.\n",
      "7. **Supply chain risks**: Companies may face risks associated with suppliers or partners that are unable to comply with carbon tax regulations or reduce their emissions, potentially disrupting the supply chain.\n",
      "\n",
      "To manage these risks, Australian companies should:\n",
      "\n",
      "1. **Conduct a carbon risk assessment**: Identify and quantify the potential financial impacts of carbon taxes on their operations and supply chain.\n",
      "2. **Develop a carbon reduction strategy**: Implement measures to reduce emissions and minimize the impact of carbon taxes, such as investing in renewable energy or energy-efficient technologies.\n",
      "3. **Engage with stakeholders**: Collaborate with suppliers, customers, and investors to understand their expectations and develop strategies to manage carbon-related risks.\n",
      "4. **Monitor regulatory developments**: Stay informed about changes to carbon tax policies and regulations to ensure compliance and adapt to new requirements.\n",
      "5. **Disclose carbon-related risks**: Report on carbon-related risks and opportunities in their annual reports, using the Australian Securities Exchange (ASX) guidance and the Global Reporting Initiative (GRI) standards, as applicable.\n",
      "\n",
      "By understanding and managing the financial risks associated with carbon taxes, Australian companies can minimize their exposure and capitalize on opportunities in a low-carbon economy.\n"
     ]
    }
   ],
   "source": [
    "ask(\"“How can our company transition to net-zero by 2050?\", company)\n",
    "print(\"\\nAssistant:\\n\", answer)"
   ]
  },
  {
   "cell_type": "code",
   "execution_count": 35,
   "id": "0f59bd01",
   "metadata": {},
   "outputs": [
    {
     "name": "stdout",
     "output_type": "stream",
     "text": [
      "[Update] State={\"len\": \"short\", \"month\": \"2025-10\", \"sector\": \"energy\", \"size\": \"large\", \"topic\": \"other\"}, Action=legal_only, OldQ=0.000, Reward=-1.0, Target=-1.000, NewQ=-0.300\n",
      "👎 got it — learning updated.\n"
     ]
    }
   ],
   "source": [
    "thumb_down()"
   ]
  },
  {
   "cell_type": "code",
   "execution_count": 38,
   "id": "07388c13",
   "metadata": {},
   "outputs": [
    {
     "name": "stdout",
     "output_type": "stream",
     "text": [
      "[Explore] Random action: legal_only\n",
      "[Action] legal_only\n",
      "\n",
      "Assistant:\n",
      " To ensure the accuracy and consistency of GHG emissions data, Australian companies can follow these steps:\n",
      "\n",
      "1. **Establish a robust data collection system**: Implement a reliable and transparent data collection process, using primary data sources, such as meter readings, fuel consumption records, and production data.\n",
      "2. **Use accepted methodologies and factors**: Apply the National Greenhouse and Energy Reporting (NGER) Scheme's methodologies and factors, as well as the Australian Government's National Inventory Report, to calculate emissions.\n",
      "3. **Conduct regular data quality checks**: Verify data for completeness, accuracy, and consistency, and address any discrepancies or gaps.\n",
      "4. **Engage independent review and assurance**: Consider hiring external experts to review and assure the accuracy of emissions data, as required by the Corporations Act 2001 and the Australian Securities and Investments Commission (ASIC) guidance.\n",
      "5. **Maintain transparent and auditable records**: Keep detailed records of data collection, calculation, and reporting processes, to ensure transparency and facilitate audits.\n",
      "\n",
      "Inaccurate reporting can lead to:\n",
      "\n",
      "1. **Non-compliance with regulations**: Failure to meet the requirements of the NGER Scheme, the Treasury Act 2024, and other Australian laws, resulting in potential fines and penalties.\n",
      "2. **Reputational damage**: Inaccurate reporting can damage a company's reputation and credibility, affecting stakeholder trust and confidence.\n",
      "3. **Financial consequences**: Inaccurate reporting can lead to incorrect emissions pricing, potentially resulting in financial losses or overpayment of emissions-related costs.\n",
      "4. **Inadequate decision-making**: Inaccurate emissions data can inform poor decision-making, hindering a company's ability to develop effective emissions reduction strategies.\n",
      "5. **ASIC and ASX scrutiny**: Inaccurate reporting may attract the attention of ASIC and the Australian Securities Exchange (ASX), potentially leading to investigations, fines, or other enforcement actions.\n",
      "\n",
      "To avoid these consequences, companies should prioritize data accuracy, transparency, and consistency, and engage with experts and regulators to ensure compliance with Australian GHG emissions reporting requirements.\n",
      "\n",
      "**Disclaimer:** Be mindful that this is an AI assistant. Please consult with a professional before proceeding.\n"
     ]
    }
   ],
   "source": [
    "ask(\"What role do science-based targets play in a company's climate strategy, and how can they be effectively set and implemented?\", company)\n",
    "print(\"\\nAssistant:\\n\", answer)"
   ]
  },
  {
   "cell_type": "code",
   "execution_count": 39,
   "id": "762e6bcc",
   "metadata": {},
   "outputs": [
    {
     "name": "stdout",
     "output_type": "stream",
     "text": [
      "[Update] State={\"len\": \"medium\", \"month\": \"2025-10\", \"sector\": \"energy\", \"size\": \"large\", \"topic\": \"other\"}, Action=legal_only, OldQ=0.000, Reward=-1.0, Target=-1.000, NewQ=-0.300\n",
      "👎 got it — learning updated.\n"
     ]
    }
   ],
   "source": [
    "thumb_down()"
   ]
  }
 ],
 "metadata": {
  "kernelspec": {
   "display_name": ".venv",
   "language": "python",
   "name": "python3"
  },
  "language_info": {
   "codemirror_mode": {
    "name": "ipython",
    "version": 3
   },
   "file_extension": ".py",
   "mimetype": "text/x-python",
   "name": "python",
   "nbconvert_exporter": "python",
   "pygments_lexer": "ipython3",
   "version": "3.10.11"
  }
 },
 "nbformat": 4,
 "nbformat_minor": 5
}
