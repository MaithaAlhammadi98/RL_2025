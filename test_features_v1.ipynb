{
 "cells": [
  {
   "cell_type": "markdown",
   "metadata": {},
   "source": [
    "### creating the memory features"
   ]
  },
  {
   "cell_type": "code",
   "execution_count": 1,
   "metadata": {
    "execution": {
     "iopub.execute_input": "2025-10-01T05:42:38.371159Z",
     "iopub.status.busy": "2025-10-01T05:42:38.370881Z",
     "iopub.status.idle": "2025-10-01T05:42:38.376291Z",
     "shell.execute_reply": "2025-10-01T05:42:38.375342Z",
     "shell.execute_reply.started": "2025-10-01T05:42:38.371134Z"
    }
   },
   "outputs": [
    {
     "name": "stdout",
     "output_type": "stream",
     "text": [
      "✅ key loaded: gsk_zeOc ...OK\n"
     ]
    }
   ],
   "source": [
    "import os\n",
    "print(\"✅ key loaded:\", os.getenv(\"GROQ_API_KEY\")[:8], \"...OK\")\n"
   ]
  },
  {
   "cell_type": "code",
   "execution_count": 2,
   "metadata": {
    "execution": {
     "iopub.execute_input": "2025-10-01T05:42:42.396419Z",
     "iopub.status.busy": "2025-10-01T05:42:42.395897Z",
     "iopub.status.idle": "2025-10-01T05:42:42.403807Z",
     "shell.execute_reply": "2025-10-01T05:42:42.402971Z",
     "shell.execute_reply.started": "2025-10-01T05:42:42.396385Z"
    }
   },
   "outputs": [
    {
     "name": "stdout",
     "output_type": "stream",
     "text": [
      "sys.path OK: /home/sagemaker-user/RL_2025/src\n"
     ]
    }
   ],
   "source": [
    "import sys\n",
    "from pathlib import Path\n",
    "sys.path.insert(0, str(Path.cwd() / \"src\"))\n",
    "print(\"sys.path OK:\", sys.path[0])\n"
   ]
  },
  {
   "cell_type": "code",
   "execution_count": 3,
   "metadata": {
    "execution": {
     "iopub.execute_input": "2025-10-01T05:42:51.861131Z",
     "iopub.status.busy": "2025-10-01T05:42:51.860871Z",
     "iopub.status.idle": "2025-10-01T05:42:51.869579Z",
     "shell.execute_reply": "2025-10-01T05:42:51.868895Z",
     "shell.execute_reply.started": "2025-10-01T05:42:51.861112Z"
    }
   },
   "outputs": [
    {
     "name": "stdout",
     "output_type": "stream",
     "text": [
      "/home/sagemaker-user/RL_2025/src/backend/state.py\n",
      "/home/sagemaker-user/RL_2025/src/backend/rl_agent.py\n"
     ]
    }
   ],
   "source": [
    "# Verify exactly which modules Python sees\n",
    "import inspect\n",
    "import backend.state, backend.rl_agent, backend.reward, backend.retrieval_policies\n",
    "print(inspect.getfile(backend.state))\n",
    "print(inspect.getfile(backend.rl_agent))\n"
   ]
  },
  {
   "cell_type": "code",
   "execution_count": 4,
   "metadata": {
    "execution": {
     "iopub.execute_input": "2025-10-01T05:43:02.078885Z",
     "iopub.status.busy": "2025-10-01T05:43:02.078494Z",
     "iopub.status.idle": "2025-10-01T05:43:02.120562Z",
     "shell.execute_reply": "2025-10-01T05:43:02.116795Z",
     "shell.execute_reply.started": "2025-10-01T05:43:02.078860Z"
    }
   },
   "outputs": [
    {
     "name": "stdout",
     "output_type": "stream",
     "text": [
      "state: {'topic': 'fin', 'len': 'short', 'sector': 'energy', 'size': 'large', 'month': '2025-10'}\n",
      "action: broad -> filter: None\n",
      "OK\n"
     ]
    }
   ],
   "source": [
    "from backend.state import encode_state\n",
    "from backend.rl_agent import RLAgent\n",
    "from backend.reward import feedback_reward\n",
    "from backend.retrieval_policies import action_to_filter\n",
    "\n",
    "s = encode_state(\"How can I reduce Scope 3 emissions cost next year?\", {\"name\":\"Acme\", \"sector\":\"energy\", \"size\":\"large\"})\n",
    "agent = RLAgent()\n",
    "a = agent.select(s)\n",
    "f = action_to_filter(a, company_name=\"Acme\")\n",
    "print(\"state:\", s)\n",
    "print(\"action:\", a, \"-> filter:\", f)\n",
    "agent.update(s, a, feedback_reward(\"up\"))\n",
    "print(\"OK\")\n"
   ]
  },
  {
   "cell_type": "markdown",
   "metadata": {},
   "source": [
    "### defining the class of the assistant"
   ]
  },
  {
   "cell_type": "code",
   "execution_count": 2,
   "metadata": {
    "execution": {
     "iopub.execute_input": "2025-10-01T04:07:40.601878Z",
     "iopub.status.busy": "2025-10-01T04:07:40.601604Z",
     "iopub.status.idle": "2025-10-01T04:07:40.951363Z",
     "shell.execute_reply": "2025-10-01T04:07:40.950627Z",
     "shell.execute_reply.started": "2025-10-01T04:07:40.601856Z"
    }
   },
   "outputs": [],
   "source": [
    "# class ghg_assistant\n",
    "# atributes: model parameteres (model, temperature, max completition tokens, system_config)\n",
    "# methods:\n",
    "# - generates response (user_prompt, context)\n",
    "# - evaluate user prompt (if the question has any relation to the topic)\n",
    "# - is a valid question (evaluate whether the question is related to GHG topic) TBD\n",
    "from os import getenv\n",
    "from json import loads\n",
    "from json import JSONDecodeError\n",
    "from groq import Client\n",
    "\n",
    "class GHGAssistant():\n",
    "    def __init__(\n",
    "        self,\n",
    "        system_config : str, # the definition the of task\n",
    "        disclaimer : str, # the disclaimer for outputs\n",
    "        model : str = 'llama-3.3-70b-versatile',\n",
    "        temperature : float = 0.5,\n",
    "        max_completion_tokens : int = 600,\n",
    "    ):\n",
    "        self.system_config, self.model, self.temp, self.max_tokens = system_config, model, temperature, max_completion_tokens\n",
    "        self.disclaimer = disclaimer\n",
    "        self.conversation = [] # placeholder for conversation\n",
    "    def generate_response(\n",
    "        self,\n",
    "        user_prompt : str,\n",
    "        context : str = None\n",
    "    ):\n",
    "        client = Client(\n",
    "            api_key = getenv('GROQ_API_KEY')\n",
    "        )\n",
    "        # initialize the conversation\n",
    "        self.conversation.append(\n",
    "            # configuration of the response\n",
    "            {\n",
    "                'role' : 'system',\n",
    "                'content' : self.system_config + f\"\\n\\nuse the following context to answer the users question: '{context}'\"\n",
    "            }\n",
    "        )\n",
    "        self.conversation.append(\n",
    "            # adding the query from the user\n",
    "            {\n",
    "                'role' : 'user',\n",
    "                'content' : user_prompt\n",
    "            }\n",
    "        )\n",
    "        # generating the response\n",
    "        response = client.chat.completions.create(\n",
    "            messages = self.conversation,\n",
    "            model = self.model,\n",
    "            temperature = self.temp,\n",
    "            max_completion_tokens = self.max_tokens\n",
    "        )\n",
    "        # retreiving the output\n",
    "        ai_ouput = response.choices[0].message.content\n",
    "        # this section is based on the assumption that the system config asks for a json file\n",
    "        try:\n",
    "            json_format_ai_output = loads(ai_ouput)\n",
    "            answer = json_format_ai_output.get('response', 'It was not possible to process that prompt')\n",
    "            category = json_format_ai_output.get('category', 'general')\n",
    "        except JSONDecodeError: # if the model output cannot be converted into \n",
    "            answer, category = ai_ouput, 'general'\n",
    "        # in case the user asks for a sensitive topic\n",
    "        if category in ['legal', 'financial']:\n",
    "            answer += self.disclaimer\n",
    "        # update conversation\n",
    "        self.conversation.append(\n",
    "            {\n",
    "                'role' : 'assistant',\n",
    "                'content' : answer\n",
    "            }\n",
    "        )\n",
    "        return answer\n",
    "    \n",
    "# this is a key parameter for the class\n",
    "SYSTEM_PROMPT_CONFIG = \"\"\"You are a helpful AI assistant that provides your answers in as a JSON object following the structure:\n",
    "{\n",
    "    \"response\" : your answer to the user,\n",
    "    \"category\" : your classification of the user prompt from the following list: ['legal', 'financial', 'others']\n",
    "}\n",
    "\"\"\"\n",
    "# this can vary depending on the topic\n",
    "DISCLAIMER_MESSAGE = (\n",
    "    \"\\n\\n**Disclaimer:** Be mindful that this is an AI assistant. \"\n",
    "    \"Please consult with a professional before proceeding.\"\n",
    ")\n",
    "test_assistant = GHGAssistant(\n",
    "    system_config = SYSTEM_PROMPT_CONFIG,\n",
    "    disclaimer = DISCLAIMER_MESSAGE\n",
    ")"
   ]
  },
  {
   "cell_type": "markdown",
   "metadata": {},
   "source": [
    "test how responses differ with and without context"
   ]
  },
  {
   "cell_type": "code",
   "execution_count": 3,
   "metadata": {
    "execution": {
     "iopub.execute_input": "2025-10-01T04:07:40.955031Z",
     "iopub.status.busy": "2025-10-01T04:07:40.954753Z",
     "iopub.status.idle": "2025-10-01T04:07:41.645944Z",
     "shell.execute_reply": "2025-10-01T04:07:41.645206Z",
     "shell.execute_reply.started": "2025-10-01T04:07:40.955002Z"
    }
   },
   "outputs": [
    {
     "data": {
      "text/plain": [
       "'The most popular player from Colombia currently is James Rodríguez. He is a Colombian professional footballer who plays as an attacking midfielder for Al-Rayyan and the Colombia national team. However, other notable players like Radamel Falcao and Juan Cuadrado are also widely recognized.'"
      ]
     },
     "execution_count": 3,
     "metadata": {},
     "output_type": "execute_result"
    }
   ],
   "source": [
    "no_context_response = test_assistant.generate_response(\n",
    "    user_prompt = 'what is the most popular player from colombia currently?'\n",
    ")\n",
    "no_context_response"
   ]
  },
  {
   "cell_type": "code",
   "execution_count": 4,
   "metadata": {
    "execution": {
     "iopub.execute_input": "2025-10-01T04:07:41.647146Z",
     "iopub.status.busy": "2025-10-01T04:07:41.646799Z",
     "iopub.status.idle": "2025-10-01T04:07:42.141927Z",
     "shell.execute_reply": "2025-10-01T04:07:42.141071Z",
     "shell.execute_reply.started": "2025-10-01T04:07:41.647118Z"
    }
   },
   "outputs": [
    {
     "data": {
      "text/plain": [
       "'Luis Diaz is currently one of the most popular players from Colombia, known for his impressive skills and recent performances, including scoring crucial goals for the national team.'"
      ]
     },
     "execution_count": 4,
     "metadata": {},
     "output_type": "execute_result"
    }
   ],
   "source": [
    "context_response = test_assistant.generate_response(\n",
    "    user_prompt = 'what is the most popular player from colombia currently?',\n",
    "    context = 'In the lastest match between Colombia and Brazil, Luis Diaz score two goals and secure the win for the caferos in a critical stage for the world cup'\n",
    ")\n",
    "context_response"
   ]
  },
  {
   "cell_type": "markdown",
   "metadata": {},
   "source": [
    "Effectively, once the context is added the responses vary accordingly"
   ]
  },
  {
   "cell_type": "code",
   "execution_count": 5,
   "metadata": {
    "execution": {
     "iopub.execute_input": "2025-10-01T04:07:42.146672Z",
     "iopub.status.busy": "2025-10-01T04:07:42.146074Z",
     "iopub.status.idle": "2025-10-01T04:07:42.152964Z",
     "shell.execute_reply": "2025-10-01T04:07:42.152300Z",
     "shell.execute_reply.started": "2025-10-01T04:07:42.146640Z"
    }
   },
   "outputs": [
    {
     "data": {
      "text/plain": [
       "[{'role': 'system',\n",
       "  'content': 'You are a helpful AI assistant that provides your answers in as a JSON object following the structure:\\n{\\n    \"response\" : your answer to the user,\\n    \"category\" : your classification of the user prompt from the following list: [\\'legal\\', \\'financial\\', \\'others\\']\\n}\\n\\n\\nuse the following context to answer the users question: \\'None\\''},\n",
       " {'role': 'user',\n",
       "  'content': 'what is the most popular player from colombia currently?'},\n",
       " {'role': 'assistant',\n",
       "  'content': 'The most popular player from Colombia currently is James Rodríguez. He is a Colombian professional footballer who plays as an attacking midfielder for Al-Rayyan and the Colombia national team. However, other notable players like Radamel Falcao and Juan Cuadrado are also widely recognized.'},\n",
       " {'role': 'system',\n",
       "  'content': 'You are a helpful AI assistant that provides your answers in as a JSON object following the structure:\\n{\\n    \"response\" : your answer to the user,\\n    \"category\" : your classification of the user prompt from the following list: [\\'legal\\', \\'financial\\', \\'others\\']\\n}\\n\\n\\nuse the following context to answer the users question: \\'In the lastest match between Colombia and Brazil, Luis Diaz score two goals and secure the win for the caferos in a critical stage for the world cup\\''},\n",
       " {'role': 'user',\n",
       "  'content': 'what is the most popular player from colombia currently?'},\n",
       " {'role': 'assistant',\n",
       "  'content': 'Luis Diaz is currently one of the most popular players from Colombia, known for his impressive skills and recent performances, including scoring crucial goals for the national team.'}]"
      ]
     },
     "execution_count": 5,
     "metadata": {},
     "output_type": "execute_result"
    }
   ],
   "source": [
    "test_assistant.conversation"
   ]
  },
  {
   "cell_type": "markdown",
   "metadata": {},
   "source": [
    "also, the conversation is stored as an atribute of the class"
   ]
  },
  {
   "cell_type": "code",
   "execution_count": 6,
   "metadata": {
    "execution": {
     "iopub.execute_input": "2025-10-01T04:07:42.157440Z",
     "iopub.status.busy": "2025-10-01T04:07:42.156898Z",
     "iopub.status.idle": "2025-10-01T04:07:42.790295Z",
     "shell.execute_reply": "2025-10-01T04:07:42.789312Z",
     "shell.execute_reply.started": "2025-10-01T04:07:42.157408Z"
    }
   },
   "outputs": [
    {
     "name": "stdout",
     "output_type": "stream",
     "text": [
      "To sue your doctor for malpractice during an operation, you should first consult with a medical malpractice attorney who can guide you through the process. You will need to provide detailed documentation of the operation, including medical records and testimony from expert witnesses. You must also prove that the doctor's actions deviated from the standard of care and caused you harm. It's essential to act quickly, as there are statutes of limitations that vary by state. Your attorney can help you navigate the complex legal process and build a strong case.\n",
      "\n",
      "**Disclaimer:** Be mindful that this is an AI assistant. Please consult with a professional before proceeding."
     ]
    }
   ],
   "source": [
    "legal_response = test_assistant.generate_response(\n",
    "    user_prompt = 'how can i sue my doctor for malpractice during an operation?'\n",
    ")\n",
    "print(legal_response, end = \"\")"
   ]
  },
  {
   "cell_type": "code",
   "execution_count": 7,
   "metadata": {
    "execution": {
     "iopub.execute_input": "2025-10-01T04:07:42.791424Z",
     "iopub.status.busy": "2025-10-01T04:07:42.790985Z",
     "iopub.status.idle": "2025-10-01T04:07:42.796835Z",
     "shell.execute_reply": "2025-10-01T04:07:42.795822Z",
     "shell.execute_reply.started": "2025-10-01T04:07:42.791391Z"
    }
   },
   "outputs": [
    {
     "data": {
      "text/plain": [
       "[{'role': 'system',\n",
       "  'content': 'You are a helpful AI assistant that provides your answers in as a JSON object following the structure:\\n{\\n    \"response\" : your answer to the user,\\n    \"category\" : your classification of the user prompt from the following list: [\\'legal\\', \\'financial\\', \\'others\\']\\n}\\n\\n\\nuse the following context to answer the users question: \\'None\\''},\n",
       " {'role': 'user',\n",
       "  'content': 'what is the most popular player from colombia currently?'},\n",
       " {'role': 'assistant',\n",
       "  'content': 'The most popular player from Colombia currently is James Rodríguez. He is a Colombian professional footballer who plays as an attacking midfielder for Al-Rayyan and the Colombia national team. However, other notable players like Radamel Falcao and Juan Cuadrado are also widely recognized.'},\n",
       " {'role': 'system',\n",
       "  'content': 'You are a helpful AI assistant that provides your answers in as a JSON object following the structure:\\n{\\n    \"response\" : your answer to the user,\\n    \"category\" : your classification of the user prompt from the following list: [\\'legal\\', \\'financial\\', \\'others\\']\\n}\\n\\n\\nuse the following context to answer the users question: \\'In the lastest match between Colombia and Brazil, Luis Diaz score two goals and secure the win for the caferos in a critical stage for the world cup\\''},\n",
       " {'role': 'user',\n",
       "  'content': 'what is the most popular player from colombia currently?'},\n",
       " {'role': 'assistant',\n",
       "  'content': 'Luis Diaz is currently one of the most popular players from Colombia, known for his impressive skills and recent performances, including scoring crucial goals for the national team.'},\n",
       " {'role': 'system',\n",
       "  'content': 'You are a helpful AI assistant that provides your answers in as a JSON object following the structure:\\n{\\n    \"response\" : your answer to the user,\\n    \"category\" : your classification of the user prompt from the following list: [\\'legal\\', \\'financial\\', \\'others\\']\\n}\\n\\n\\nuse the following context to answer the users question: \\'None\\''},\n",
       " {'role': 'user',\n",
       "  'content': 'how can i sue my doctor for malpractice during an operation?'},\n",
       " {'role': 'assistant',\n",
       "  'content': \"To sue your doctor for malpractice during an operation, you should first consult with a medical malpractice attorney who can guide you through the process. You will need to provide detailed documentation of the operation, including medical records and testimony from expert witnesses. You must also prove that the doctor's actions deviated from the standard of care and caused you harm. It's essential to act quickly, as there are statutes of limitations that vary by state. Your attorney can help you navigate the complex legal process and build a strong case.\\n\\n**Disclaimer:** Be mindful that this is an AI assistant. Please consult with a professional before proceeding.\"}]"
      ]
     },
     "execution_count": 7,
     "metadata": {},
     "output_type": "execute_result"
    }
   ],
   "source": [
    "test_assistant.conversation"
   ]
  }
 ],
 "metadata": {
  "kernelspec": {
   "display_name": "Python 3 (ipykernel)",
   "language": "python",
   "name": "python3"
  },
  "language_info": {
   "codemirror_mode": {
    "name": "ipython",
    "version": 3
   },
   "file_extension": ".py",
   "mimetype": "text/x-python",
   "name": "python",
   "nbconvert_exporter": "python",
   "pygments_lexer": "ipython3",
   "version": "3.12.9"
  }
 },
 "nbformat": 4,
 "nbformat_minor": 4
}
