{
 "cells": [
  {
   "cell_type": "code",
   "execution_count": 1,
   "id": "b9679c4a-8817-4e9d-b9d8-a44d18a129a8",
   "metadata": {
    "execution": {
     "iopub.execute_input": "2025-10-01T06:15:45.941910Z",
     "iopub.status.busy": "2025-10-01T06:15:45.941661Z",
     "iopub.status.idle": "2025-10-01T06:15:59.392976Z",
     "shell.execute_reply": "2025-10-01T06:15:59.391663Z",
     "shell.execute_reply.started": "2025-10-01T06:15:45.941870Z"
    }
   },
   "outputs": [
    {
     "name": "stdout",
     "output_type": "stream",
     "text": [
      "Requirement already satisfied: spacy==3.7.6 in /opt/conda/lib/python3.12/site-packages (3.7.6)\n",
      "Requirement already satisfied: spacy-legacy<3.1.0,>=3.0.11 in /opt/conda/lib/python3.12/site-packages (from spacy==3.7.6) (3.0.12)\n",
      "Requirement already satisfied: spacy-loggers<2.0.0,>=1.0.0 in /opt/conda/lib/python3.12/site-packages (from spacy==3.7.6) (1.0.5)\n",
      "Requirement already satisfied: murmurhash<1.1.0,>=0.28.0 in /opt/conda/lib/python3.12/site-packages (from spacy==3.7.6) (1.0.10)\n",
      "Requirement already satisfied: cymem<2.1.0,>=2.0.2 in /opt/conda/lib/python3.12/site-packages (from spacy==3.7.6) (2.0.11)\n",
      "Requirement already satisfied: preshed<3.1.0,>=3.0.2 in /opt/conda/lib/python3.12/site-packages (from spacy==3.7.6) (3.0.9)\n",
      "Requirement already satisfied: thinc<8.3.0,>=8.2.2 in /opt/conda/lib/python3.12/site-packages (from spacy==3.7.6) (8.2.5)\n",
      "Requirement already satisfied: wasabi<1.2.0,>=0.9.1 in /opt/conda/lib/python3.12/site-packages (from spacy==3.7.6) (1.1.3)\n",
      "Requirement already satisfied: srsly<3.0.0,>=2.4.3 in /opt/conda/lib/python3.12/site-packages (from spacy==3.7.6) (2.5.1)\n",
      "Requirement already satisfied: catalogue<2.1.0,>=2.0.6 in /opt/conda/lib/python3.12/site-packages (from spacy==3.7.6) (2.0.10)\n",
      "Requirement already satisfied: weasel<0.5.0,>=0.1.0 in /opt/conda/lib/python3.12/site-packages (from spacy==3.7.6) (0.4.1)\n",
      "Requirement already satisfied: typer<1.0.0,>=0.3.0 in /opt/conda/lib/python3.12/site-packages (from spacy==3.7.6) (0.16.0)\n",
      "Requirement already satisfied: tqdm<5.0.0,>=4.38.0 in /opt/conda/lib/python3.12/site-packages (from spacy==3.7.6) (4.67.1)\n",
      "Requirement already satisfied: requests<3.0.0,>=2.13.0 in /opt/conda/lib/python3.12/site-packages (from spacy==3.7.6) (2.32.4)\n",
      "Requirement already satisfied: pydantic!=1.8,!=1.8.1,<3.0.0,>=1.7.4 in /opt/conda/lib/python3.12/site-packages (from spacy==3.7.6) (2.11.7)\n",
      "Requirement already satisfied: jinja2 in /opt/conda/lib/python3.12/site-packages (from spacy==3.7.6) (3.1.6)\n",
      "Requirement already satisfied: setuptools in /opt/conda/lib/python3.12/site-packages (from spacy==3.7.6) (80.9.0)\n",
      "Requirement already satisfied: packaging>=20.0 in /opt/conda/lib/python3.12/site-packages (from spacy==3.7.6) (24.2)\n",
      "Requirement already satisfied: langcodes<4.0.0,>=3.2.0 in /opt/conda/lib/python3.12/site-packages (from spacy==3.7.6) (3.4.1)\n",
      "Requirement already satisfied: numpy>=1.19.0 in /opt/conda/lib/python3.12/site-packages (from spacy==3.7.6) (1.26.4)\n",
      "Requirement already satisfied: language-data>=1.2 in /opt/conda/lib/python3.12/site-packages (from langcodes<4.0.0,>=3.2.0->spacy==3.7.6) (1.3.0)\n",
      "Requirement already satisfied: annotated-types>=0.6.0 in /opt/conda/lib/python3.12/site-packages (from pydantic!=1.8,!=1.8.1,<3.0.0,>=1.7.4->spacy==3.7.6) (0.7.0)\n",
      "Requirement already satisfied: pydantic-core==2.33.2 in /opt/conda/lib/python3.12/site-packages (from pydantic!=1.8,!=1.8.1,<3.0.0,>=1.7.4->spacy==3.7.6) (2.33.2)\n",
      "Requirement already satisfied: typing-extensions>=4.12.2 in /opt/conda/lib/python3.12/site-packages (from pydantic!=1.8,!=1.8.1,<3.0.0,>=1.7.4->spacy==3.7.6) (4.14.1)\n",
      "Requirement already satisfied: typing-inspection>=0.4.0 in /opt/conda/lib/python3.12/site-packages (from pydantic!=1.8,!=1.8.1,<3.0.0,>=1.7.4->spacy==3.7.6) (0.4.1)\n",
      "Requirement already satisfied: charset_normalizer<4,>=2 in /opt/conda/lib/python3.12/site-packages (from requests<3.0.0,>=2.13.0->spacy==3.7.6) (3.4.3)\n",
      "Requirement already satisfied: idna<4,>=2.5 in /opt/conda/lib/python3.12/site-packages (from requests<3.0.0,>=2.13.0->spacy==3.7.6) (3.10)\n",
      "Requirement already satisfied: urllib3<3,>=1.21.1 in /opt/conda/lib/python3.12/site-packages (from requests<3.0.0,>=2.13.0->spacy==3.7.6) (1.26.19)\n",
      "Requirement already satisfied: certifi>=2017.4.17 in /opt/conda/lib/python3.12/site-packages (from requests<3.0.0,>=2.13.0->spacy==3.7.6) (2025.8.3)\n",
      "Requirement already satisfied: cloudpickle>=2.2.0 in /opt/conda/lib/python3.12/site-packages (from srsly<3.0.0,>=2.4.3->spacy==3.7.6) (3.1.1)\n",
      "Requirement already satisfied: ujson>=1.35 in /opt/conda/lib/python3.12/site-packages (from srsly<3.0.0,>=2.4.3->spacy==3.7.6) (5.10.0)\n",
      "Requirement already satisfied: blis<0.8.0,>=0.7.8 in /opt/conda/lib/python3.12/site-packages (from thinc<8.3.0,>=8.2.2->spacy==3.7.6) (0.7.11)\n",
      "Requirement already satisfied: confection<1.0.0,>=0.0.1 in /opt/conda/lib/python3.12/site-packages (from thinc<8.3.0,>=8.2.2->spacy==3.7.6) (0.1.5)\n",
      "Requirement already satisfied: click>=8.0.0 in /opt/conda/lib/python3.12/site-packages (from typer<1.0.0,>=0.3.0->spacy==3.7.6) (8.2.1)\n",
      "Requirement already satisfied: shellingham>=1.3.0 in /opt/conda/lib/python3.12/site-packages (from typer<1.0.0,>=0.3.0->spacy==3.7.6) (1.5.4)\n",
      "Requirement already satisfied: rich>=10.11.0 in /opt/conda/lib/python3.12/site-packages (from typer<1.0.0,>=0.3.0->spacy==3.7.6) (13.9.4)\n",
      "Requirement already satisfied: cloudpathlib<1.0.0,>=0.7.0 in /opt/conda/lib/python3.12/site-packages (from weasel<0.5.0,>=0.1.0->spacy==3.7.6) (0.21.1)\n",
      "Requirement already satisfied: smart-open<8.0.0,>=5.2.1 in /opt/conda/lib/python3.12/site-packages (from weasel<0.5.0,>=0.1.0->spacy==3.7.6) (7.3.0.post1)\n",
      "Requirement already satisfied: wrapt in /opt/conda/lib/python3.12/site-packages (from smart-open<8.0.0,>=5.2.1->weasel<0.5.0,>=0.1.0->spacy==3.7.6) (1.17.3)\n",
      "Requirement already satisfied: marisa-trie>=1.1.0 in /opt/conda/lib/python3.12/site-packages (from language-data>=1.2->langcodes<4.0.0,>=3.2.0->spacy==3.7.6) (1.2.1)\n",
      "Requirement already satisfied: markdown-it-py>=2.2.0 in /opt/conda/lib/python3.12/site-packages (from rich>=10.11.0->typer<1.0.0,>=0.3.0->spacy==3.7.6) (4.0.0)\n",
      "Requirement already satisfied: pygments<3.0.0,>=2.13.0 in /opt/conda/lib/python3.12/site-packages (from rich>=10.11.0->typer<1.0.0,>=0.3.0->spacy==3.7.6) (2.19.2)\n",
      "Requirement already satisfied: mdurl~=0.1 in /opt/conda/lib/python3.12/site-packages (from markdown-it-py>=2.2.0->rich>=10.11.0->typer<1.0.0,>=0.3.0->spacy==3.7.6) (0.1.2)\n",
      "Requirement already satisfied: MarkupSafe>=2.0 in /opt/conda/lib/python3.12/site-packages (from jinja2->spacy==3.7.6) (3.0.2)\n",
      "Collecting en-core-web-md==3.7.1\n",
      "  Downloading https://github.com/explosion/spacy-models/releases/download/en_core_web_md-3.7.1/en_core_web_md-3.7.1-py3-none-any.whl (42.8 MB)\n",
      "\u001b[2K     \u001b[90m━━━━━━━━━━━━━━━━━━━━━━━━━━━━━━━━━━━━━━━━\u001b[0m \u001b[32m42.8/42.8 MB\u001b[0m \u001b[31m196.3 MB/s\u001b[0m  \u001b[33m0:00:00\u001b[0m0:00:01\u001b[0m\n",
      "\u001b[?25hRequirement already satisfied: spacy<3.8.0,>=3.7.2 in /opt/conda/lib/python3.12/site-packages (from en-core-web-md==3.7.1) (3.7.6)\n",
      "Requirement already satisfied: spacy-legacy<3.1.0,>=3.0.11 in /opt/conda/lib/python3.12/site-packages (from spacy<3.8.0,>=3.7.2->en-core-web-md==3.7.1) (3.0.12)\n",
      "Requirement already satisfied: spacy-loggers<2.0.0,>=1.0.0 in /opt/conda/lib/python3.12/site-packages (from spacy<3.8.0,>=3.7.2->en-core-web-md==3.7.1) (1.0.5)\n",
      "Requirement already satisfied: murmurhash<1.1.0,>=0.28.0 in /opt/conda/lib/python3.12/site-packages (from spacy<3.8.0,>=3.7.2->en-core-web-md==3.7.1) (1.0.10)\n",
      "Requirement already satisfied: cymem<2.1.0,>=2.0.2 in /opt/conda/lib/python3.12/site-packages (from spacy<3.8.0,>=3.7.2->en-core-web-md==3.7.1) (2.0.11)\n",
      "Requirement already satisfied: preshed<3.1.0,>=3.0.2 in /opt/conda/lib/python3.12/site-packages (from spacy<3.8.0,>=3.7.2->en-core-web-md==3.7.1) (3.0.9)\n",
      "Requirement already satisfied: thinc<8.3.0,>=8.2.2 in /opt/conda/lib/python3.12/site-packages (from spacy<3.8.0,>=3.7.2->en-core-web-md==3.7.1) (8.2.5)\n",
      "Requirement already satisfied: wasabi<1.2.0,>=0.9.1 in /opt/conda/lib/python3.12/site-packages (from spacy<3.8.0,>=3.7.2->en-core-web-md==3.7.1) (1.1.3)\n",
      "Requirement already satisfied: srsly<3.0.0,>=2.4.3 in /opt/conda/lib/python3.12/site-packages (from spacy<3.8.0,>=3.7.2->en-core-web-md==3.7.1) (2.5.1)\n",
      "Requirement already satisfied: catalogue<2.1.0,>=2.0.6 in /opt/conda/lib/python3.12/site-packages (from spacy<3.8.0,>=3.7.2->en-core-web-md==3.7.1) (2.0.10)\n",
      "Requirement already satisfied: weasel<0.5.0,>=0.1.0 in /opt/conda/lib/python3.12/site-packages (from spacy<3.8.0,>=3.7.2->en-core-web-md==3.7.1) (0.4.1)\n",
      "Requirement already satisfied: typer<1.0.0,>=0.3.0 in /opt/conda/lib/python3.12/site-packages (from spacy<3.8.0,>=3.7.2->en-core-web-md==3.7.1) (0.16.0)\n",
      "Requirement already satisfied: tqdm<5.0.0,>=4.38.0 in /opt/conda/lib/python3.12/site-packages (from spacy<3.8.0,>=3.7.2->en-core-web-md==3.7.1) (4.67.1)\n",
      "Requirement already satisfied: requests<3.0.0,>=2.13.0 in /opt/conda/lib/python3.12/site-packages (from spacy<3.8.0,>=3.7.2->en-core-web-md==3.7.1) (2.32.4)\n",
      "Requirement already satisfied: pydantic!=1.8,!=1.8.1,<3.0.0,>=1.7.4 in /opt/conda/lib/python3.12/site-packages (from spacy<3.8.0,>=3.7.2->en-core-web-md==3.7.1) (2.11.7)\n",
      "Requirement already satisfied: jinja2 in /opt/conda/lib/python3.12/site-packages (from spacy<3.8.0,>=3.7.2->en-core-web-md==3.7.1) (3.1.6)\n",
      "Requirement already satisfied: setuptools in /opt/conda/lib/python3.12/site-packages (from spacy<3.8.0,>=3.7.2->en-core-web-md==3.7.1) (80.9.0)\n",
      "Requirement already satisfied: packaging>=20.0 in /opt/conda/lib/python3.12/site-packages (from spacy<3.8.0,>=3.7.2->en-core-web-md==3.7.1) (24.2)\n",
      "Requirement already satisfied: langcodes<4.0.0,>=3.2.0 in /opt/conda/lib/python3.12/site-packages (from spacy<3.8.0,>=3.7.2->en-core-web-md==3.7.1) (3.4.1)\n",
      "Requirement already satisfied: numpy>=1.19.0 in /opt/conda/lib/python3.12/site-packages (from spacy<3.8.0,>=3.7.2->en-core-web-md==3.7.1) (1.26.4)\n",
      "Requirement already satisfied: language-data>=1.2 in /opt/conda/lib/python3.12/site-packages (from langcodes<4.0.0,>=3.2.0->spacy<3.8.0,>=3.7.2->en-core-web-md==3.7.1) (1.3.0)\n",
      "Requirement already satisfied: annotated-types>=0.6.0 in /opt/conda/lib/python3.12/site-packages (from pydantic!=1.8,!=1.8.1,<3.0.0,>=1.7.4->spacy<3.8.0,>=3.7.2->en-core-web-md==3.7.1) (0.7.0)\n",
      "Requirement already satisfied: pydantic-core==2.33.2 in /opt/conda/lib/python3.12/site-packages (from pydantic!=1.8,!=1.8.1,<3.0.0,>=1.7.4->spacy<3.8.0,>=3.7.2->en-core-web-md==3.7.1) (2.33.2)\n",
      "Requirement already satisfied: typing-extensions>=4.12.2 in /opt/conda/lib/python3.12/site-packages (from pydantic!=1.8,!=1.8.1,<3.0.0,>=1.7.4->spacy<3.8.0,>=3.7.2->en-core-web-md==3.7.1) (4.14.1)\n",
      "Requirement already satisfied: typing-inspection>=0.4.0 in /opt/conda/lib/python3.12/site-packages (from pydantic!=1.8,!=1.8.1,<3.0.0,>=1.7.4->spacy<3.8.0,>=3.7.2->en-core-web-md==3.7.1) (0.4.1)\n",
      "Requirement already satisfied: charset_normalizer<4,>=2 in /opt/conda/lib/python3.12/site-packages (from requests<3.0.0,>=2.13.0->spacy<3.8.0,>=3.7.2->en-core-web-md==3.7.1) (3.4.3)\n",
      "Requirement already satisfied: idna<4,>=2.5 in /opt/conda/lib/python3.12/site-packages (from requests<3.0.0,>=2.13.0->spacy<3.8.0,>=3.7.2->en-core-web-md==3.7.1) (3.10)\n",
      "Requirement already satisfied: urllib3<3,>=1.21.1 in /opt/conda/lib/python3.12/site-packages (from requests<3.0.0,>=2.13.0->spacy<3.8.0,>=3.7.2->en-core-web-md==3.7.1) (1.26.19)\n",
      "Requirement already satisfied: certifi>=2017.4.17 in /opt/conda/lib/python3.12/site-packages (from requests<3.0.0,>=2.13.0->spacy<3.8.0,>=3.7.2->en-core-web-md==3.7.1) (2025.8.3)\n",
      "Requirement already satisfied: cloudpickle>=2.2.0 in /opt/conda/lib/python3.12/site-packages (from srsly<3.0.0,>=2.4.3->spacy<3.8.0,>=3.7.2->en-core-web-md==3.7.1) (3.1.1)\n",
      "Requirement already satisfied: ujson>=1.35 in /opt/conda/lib/python3.12/site-packages (from srsly<3.0.0,>=2.4.3->spacy<3.8.0,>=3.7.2->en-core-web-md==3.7.1) (5.10.0)\n",
      "Requirement already satisfied: blis<0.8.0,>=0.7.8 in /opt/conda/lib/python3.12/site-packages (from thinc<8.3.0,>=8.2.2->spacy<3.8.0,>=3.7.2->en-core-web-md==3.7.1) (0.7.11)\n",
      "Requirement already satisfied: confection<1.0.0,>=0.0.1 in /opt/conda/lib/python3.12/site-packages (from thinc<8.3.0,>=8.2.2->spacy<3.8.0,>=3.7.2->en-core-web-md==3.7.1) (0.1.5)\n",
      "Requirement already satisfied: click>=8.0.0 in /opt/conda/lib/python3.12/site-packages (from typer<1.0.0,>=0.3.0->spacy<3.8.0,>=3.7.2->en-core-web-md==3.7.1) (8.2.1)\n",
      "Requirement already satisfied: shellingham>=1.3.0 in /opt/conda/lib/python3.12/site-packages (from typer<1.0.0,>=0.3.0->spacy<3.8.0,>=3.7.2->en-core-web-md==3.7.1) (1.5.4)\n",
      "Requirement already satisfied: rich>=10.11.0 in /opt/conda/lib/python3.12/site-packages (from typer<1.0.0,>=0.3.0->spacy<3.8.0,>=3.7.2->en-core-web-md==3.7.1) (13.9.4)\n",
      "Requirement already satisfied: cloudpathlib<1.0.0,>=0.7.0 in /opt/conda/lib/python3.12/site-packages (from weasel<0.5.0,>=0.1.0->spacy<3.8.0,>=3.7.2->en-core-web-md==3.7.1) (0.21.1)\n",
      "Requirement already satisfied: smart-open<8.0.0,>=5.2.1 in /opt/conda/lib/python3.12/site-packages (from weasel<0.5.0,>=0.1.0->spacy<3.8.0,>=3.7.2->en-core-web-md==3.7.1) (7.3.0.post1)\n",
      "Requirement already satisfied: wrapt in /opt/conda/lib/python3.12/site-packages (from smart-open<8.0.0,>=5.2.1->weasel<0.5.0,>=0.1.0->spacy<3.8.0,>=3.7.2->en-core-web-md==3.7.1) (1.17.3)\n",
      "Requirement already satisfied: marisa-trie>=1.1.0 in /opt/conda/lib/python3.12/site-packages (from language-data>=1.2->langcodes<4.0.0,>=3.2.0->spacy<3.8.0,>=3.7.2->en-core-web-md==3.7.1) (1.2.1)\n",
      "Requirement already satisfied: markdown-it-py>=2.2.0 in /opt/conda/lib/python3.12/site-packages (from rich>=10.11.0->typer<1.0.0,>=0.3.0->spacy<3.8.0,>=3.7.2->en-core-web-md==3.7.1) (4.0.0)\n",
      "Requirement already satisfied: pygments<3.0.0,>=2.13.0 in /opt/conda/lib/python3.12/site-packages (from rich>=10.11.0->typer<1.0.0,>=0.3.0->spacy<3.8.0,>=3.7.2->en-core-web-md==3.7.1) (2.19.2)\n",
      "Requirement already satisfied: mdurl~=0.1 in /opt/conda/lib/python3.12/site-packages (from markdown-it-py>=2.2.0->rich>=10.11.0->typer<1.0.0,>=0.3.0->spacy<3.8.0,>=3.7.2->en-core-web-md==3.7.1) (0.1.2)\n",
      "Requirement already satisfied: MarkupSafe>=2.0 in /opt/conda/lib/python3.12/site-packages (from jinja2->spacy<3.8.0,>=3.7.2->en-core-web-md==3.7.1) (3.0.2)\n",
      "\u001b[38;5;2m✔ Download and installation successful\u001b[0m\n",
      "You can now load the package via spacy.load('en_core_web_md')\n",
      "Requirement already satisfied: transformers==4.40.2 in /opt/conda/lib/python3.12/site-packages (4.40.2)\n",
      "Requirement already satisfied: accelerate==0.30.1 in /opt/conda/lib/python3.12/site-packages (0.30.1)\n",
      "Requirement already satisfied: filelock in /opt/conda/lib/python3.12/site-packages (from transformers==4.40.2) (3.19.1)\n",
      "Requirement already satisfied: huggingface-hub<1.0,>=0.19.3 in /opt/conda/lib/python3.12/site-packages (from transformers==4.40.2) (0.34.4)\n",
      "Requirement already satisfied: numpy>=1.17 in /opt/conda/lib/python3.12/site-packages (from transformers==4.40.2) (1.26.4)\n",
      "Requirement already satisfied: packaging>=20.0 in /opt/conda/lib/python3.12/site-packages (from transformers==4.40.2) (24.2)\n",
      "Requirement already satisfied: pyyaml>=5.1 in /opt/conda/lib/python3.12/site-packages (from transformers==4.40.2) (6.0.2)\n",
      "Requirement already satisfied: regex!=2019.12.17 in /opt/conda/lib/python3.12/site-packages (from transformers==4.40.2) (2025.7.34)\n",
      "Requirement already satisfied: requests in /opt/conda/lib/python3.12/site-packages (from transformers==4.40.2) (2.32.4)\n",
      "Requirement already satisfied: tokenizers<0.20,>=0.19 in /opt/conda/lib/python3.12/site-packages (from transformers==4.40.2) (0.19.1)\n",
      "Requirement already satisfied: safetensors>=0.4.1 in /opt/conda/lib/python3.12/site-packages (from transformers==4.40.2) (0.6.2)\n",
      "Requirement already satisfied: tqdm>=4.27 in /opt/conda/lib/python3.12/site-packages (from transformers==4.40.2) (4.67.1)\n",
      "Requirement already satisfied: psutil in /opt/conda/lib/python3.12/site-packages (from accelerate==0.30.1) (5.9.8)\n",
      "Requirement already satisfied: torch>=1.10.0 in /opt/conda/lib/python3.12/site-packages (from accelerate==0.30.1) (2.3.1)\n",
      "Requirement already satisfied: fsspec>=2023.5.0 in /opt/conda/lib/python3.12/site-packages (from huggingface-hub<1.0,>=0.19.3->transformers==4.40.2) (2024.12.0)\n",
      "Requirement already satisfied: hf-xet<2.0.0,>=1.1.3 in /opt/conda/lib/python3.12/site-packages (from huggingface-hub<1.0,>=0.19.3->transformers==4.40.2) (1.1.7)\n",
      "Requirement already satisfied: typing-extensions>=3.7.4.3 in /opt/conda/lib/python3.12/site-packages (from huggingface-hub<1.0,>=0.19.3->transformers==4.40.2) (4.14.1)\n",
      "Requirement already satisfied: sympy in /opt/conda/lib/python3.12/site-packages (from torch>=1.10.0->accelerate==0.30.1) (1.14.0)\n",
      "Requirement already satisfied: networkx in /opt/conda/lib/python3.12/site-packages (from torch>=1.10.0->accelerate==0.30.1) (3.5)\n",
      "Requirement already satisfied: jinja2 in /opt/conda/lib/python3.12/site-packages (from torch>=1.10.0->accelerate==0.30.1) (3.1.6)\n",
      "Requirement already satisfied: nvidia-cuda-nvrtc-cu12==12.1.105 in /opt/conda/lib/python3.12/site-packages (from torch>=1.10.0->accelerate==0.30.1) (12.1.105)\n",
      "Requirement already satisfied: nvidia-cuda-runtime-cu12==12.1.105 in /opt/conda/lib/python3.12/site-packages (from torch>=1.10.0->accelerate==0.30.1) (12.1.105)\n",
      "Requirement already satisfied: nvidia-cuda-cupti-cu12==12.1.105 in /opt/conda/lib/python3.12/site-packages (from torch>=1.10.0->accelerate==0.30.1) (12.1.105)\n",
      "Requirement already satisfied: nvidia-cudnn-cu12==8.9.2.26 in /opt/conda/lib/python3.12/site-packages (from torch>=1.10.0->accelerate==0.30.1) (8.9.2.26)\n",
      "Requirement already satisfied: nvidia-cublas-cu12==12.1.3.1 in /opt/conda/lib/python3.12/site-packages (from torch>=1.10.0->accelerate==0.30.1) (12.1.3.1)\n",
      "Requirement already satisfied: nvidia-cufft-cu12==11.0.2.54 in /opt/conda/lib/python3.12/site-packages (from torch>=1.10.0->accelerate==0.30.1) (11.0.2.54)\n",
      "Requirement already satisfied: nvidia-curand-cu12==10.3.2.106 in /opt/conda/lib/python3.12/site-packages (from torch>=1.10.0->accelerate==0.30.1) (10.3.2.106)\n",
      "Requirement already satisfied: nvidia-cusolver-cu12==11.4.5.107 in /opt/conda/lib/python3.12/site-packages (from torch>=1.10.0->accelerate==0.30.1) (11.4.5.107)\n",
      "Requirement already satisfied: nvidia-cusparse-cu12==12.1.0.106 in /opt/conda/lib/python3.12/site-packages (from torch>=1.10.0->accelerate==0.30.1) (12.1.0.106)\n",
      "Requirement already satisfied: nvidia-nccl-cu12==2.20.5 in /opt/conda/lib/python3.12/site-packages (from torch>=1.10.0->accelerate==0.30.1) (2.20.5)\n",
      "Requirement already satisfied: nvidia-nvtx-cu12==12.1.105 in /opt/conda/lib/python3.12/site-packages (from torch>=1.10.0->accelerate==0.30.1) (12.1.105)\n",
      "Requirement already satisfied: nvidia-nvjitlink-cu12 in /opt/conda/lib/python3.12/site-packages (from nvidia-cusolver-cu12==11.4.5.107->torch>=1.10.0->accelerate==0.30.1) (12.9.86)\n",
      "Requirement already satisfied: MarkupSafe>=2.0 in /opt/conda/lib/python3.12/site-packages (from jinja2->torch>=1.10.0->accelerate==0.30.1) (3.0.2)\n",
      "Requirement already satisfied: charset_normalizer<4,>=2 in /opt/conda/lib/python3.12/site-packages (from requests->transformers==4.40.2) (3.4.3)\n",
      "Requirement already satisfied: idna<4,>=2.5 in /opt/conda/lib/python3.12/site-packages (from requests->transformers==4.40.2) (3.10)\n",
      "Requirement already satisfied: urllib3<3,>=1.21.1 in /opt/conda/lib/python3.12/site-packages (from requests->transformers==4.40.2) (1.26.19)\n",
      "Requirement already satisfied: certifi>=2017.4.17 in /opt/conda/lib/python3.12/site-packages (from requests->transformers==4.40.2) (2025.8.3)\n",
      "Requirement already satisfied: mpmath<1.4,>=1.1.0 in /opt/conda/lib/python3.12/site-packages (from sympy->torch>=1.10.0->accelerate==0.30.1) (1.3.0)\n"
     ]
    }
   ],
   "source": [
    "!pip install spacy==3.7.6\n",
    "!python -m spacy download en_core_web_md\n",
    "!pip install \"transformers==4.40.2\" \"accelerate==0.30.1\"\n",
    "!pip install -q nest_asyncio\n",
    "\n"
   ]
  },
  {
   "cell_type": "code",
   "execution_count": 11,
   "id": "46a099ca-2053-49c7-b285-e5bef04edd09",
   "metadata": {
    "execution": {
     "iopub.execute_input": "2025-10-01T06:28:51.440519Z",
     "iopub.status.busy": "2025-10-01T06:28:51.440187Z",
     "iopub.status.idle": "2025-10-01T06:28:53.646972Z",
     "shell.execute_reply": "2025-10-01T06:28:53.646117Z",
     "shell.execute_reply.started": "2025-10-01T06:28:51.440497Z"
    }
   },
   "outputs": [
    {
     "name": "stdout",
     "output_type": "stream",
     "text": [
      "SpaCy model loaded OK!\n"
     ]
    }
   ],
   "source": [
    "import spacy\n",
    "nlp = spacy.load(\"en_core_web_md\")\n",
    "print(\"SpaCy model loaded OK!\")\n",
    "import nest_asyncio\n",
    "nest_asyncio.apply()\n"
   ]
  },
  {
   "cell_type": "code",
   "execution_count": 3,
   "id": "4144ed26-852c-4bcf-93c8-cd6b97dae40e",
   "metadata": {
    "execution": {
     "iopub.execute_input": "2025-10-01T06:16:05.018687Z",
     "iopub.status.busy": "2025-10-01T06:16:05.018073Z",
     "iopub.status.idle": "2025-10-01T06:16:20.528817Z",
     "shell.execute_reply": "2025-10-01T06:16:20.527988Z",
     "shell.execute_reply.started": "2025-10-01T06:16:05.018654Z"
    }
   },
   "outputs": [
    {
     "name": "stdout",
     "output_type": "stream",
     "text": [
      "sys.path OK: /home/sagemaker-user/RL_2025/src\n"
     ]
    },
    {
     "name": "stderr",
     "output_type": "stream",
     "text": [
      "2025-10-01 06:16:13.487047: I tensorflow/core/platform/cpu_feature_guard.cc:210] This TensorFlow binary is optimized to use available CPU instructions in performance-critical operations.\n",
      "To enable the following instructions: SSE4.1 SSE4.2 AVX AVX2 AVX512F FMA, in other operations, rebuild TensorFlow with the appropriate compiler flags.\n",
      "[nltk_data] Downloading package punkt to /home/sagemaker-\n",
      "[nltk_data]     user/nltk_data...\n",
      "[nltk_data]   Package punkt is already up-to-date!\n"
     ]
    },
    {
     "name": "stdout",
     "output_type": "stream",
     "text": [
      "Backend modules loaded.\n"
     ]
    }
   ],
   "source": [
    "# --- make src/ importable ---\n",
    "import sys, os\n",
    "from pathlib import Path\n",
    "\n",
    "SRC = (Path.cwd() / \"src\").resolve()\n",
    "if str(SRC) not in sys.path:\n",
    "    sys.path.insert(0, str(SRC))\n",
    "\n",
    "print(\"sys.path OK:\", sys.path[0])\n",
    "\n",
    "# --- backend imports (your 4 RL files) ---\n",
    "from backend.state import encode_state\n",
    "from backend.rl_agent import RLAgent\n",
    "from backend.reward import feedback_reward\n",
    "from backend.retrieval_policies import action_to_filter\n",
    "\n",
    "# --- RAG + LLM (your existing code) ---\n",
    "from backend.rag_process import rag_process\n",
    "from backend.ghg_assistant import GHGAssistant\n",
    "\n",
    "print(\"Backend modules loaded.\")\n"
   ]
  },
  {
   "cell_type": "code",
   "execution_count": 4,
   "id": "7a4fff53-d9b4-49a6-906b-3c119fec18b0",
   "metadata": {
    "execution": {
     "iopub.execute_input": "2025-10-01T06:16:20.529815Z",
     "iopub.status.busy": "2025-10-01T06:16:20.529571Z",
     "iopub.status.idle": "2025-10-01T06:16:20.534469Z",
     "shell.execute_reply": "2025-10-01T06:16:20.533619Z",
     "shell.execute_reply.started": "2025-10-01T06:16:20.529796Z"
    }
   },
   "outputs": [
    {
     "name": "stdout",
     "output_type": "stream",
     "text": [
      "Key prefix: gsk_zeOc ...OK\n"
     ]
    }
   ],
   "source": [
    "# If your assistant requires GROQ_API_KEY in env:\n",
    "try:\n",
    "    from dotenv import load_dotenv\n",
    "    # load .env at repo root if present\n",
    "    load_dotenv(dotenv_path=Path.cwd() / \".env\")\n",
    "except Exception:\n",
    "    pass\n",
    "\n",
    "assert os.getenv(\"GROQ_API_KEY\"), \"GROQ_API_KEY not found. export it or put it in .env\"\n",
    "print(\"Key prefix:\", os.getenv(\"GROQ_API_KEY\")[:8], \"...OK\")\n"
   ]
  },
  {
   "cell_type": "code",
   "execution_count": null,
   "id": "421101fc-2b63-498a-8396-4378ba0aa69a",
   "metadata": {},
   "outputs": [],
   "source": [
    "import asyncio\n",
    "import nest_asyncio\n",
    "\n",
    "def run_async(coro):\n",
    "    \"\"\"\n",
    "    Run an async coroutine safely from a notebook OR a normal script.\n",
    "    - In a notebook (loop already running): reuse it via nest_asyncio.\n",
    "    - In a script: create a fresh loop with asyncio.run.\n",
    "    \"\"\"\n",
    "    try:\n",
    "        loop = asyncio.get_running_loop()\n",
    "    except RuntimeError:\n",
    "        loop = None\n",
    "\n",
    "    if loop and loop.is_running():\n",
    "        nest_asyncio.apply(loop)            # patch the running loop once\n",
    "        return loop.run_until_complete(coro)\n",
    "    else:\n",
    "        return asyncio.run(coro)\n"
   ]
  },
  {
   "cell_type": "code",
   "execution_count": 5,
   "id": "fba37170-746a-44fa-8ce5-f101e74d0422",
   "metadata": {
    "execution": {
     "iopub.execute_input": "2025-10-01T06:16:20.536326Z",
     "iopub.status.busy": "2025-10-01T06:16:20.535967Z",
     "iopub.status.idle": "2025-10-01T06:16:26.355315Z",
     "shell.execute_reply": "2025-10-01T06:16:26.354458Z",
     "shell.execute_reply.started": "2025-10-01T06:16:20.536306Z"
    }
   },
   "outputs": [
    {
     "name": "stderr",
     "output_type": "stream",
     "text": [
      "/opt/conda/lib/python3.12/site-packages/huggingface_hub/file_download.py:945: FutureWarning: `resume_download` is deprecated and will be removed in version 1.0.0. Downloads always resume when possible. If you want to force a new download, use `force_download=True`.\n",
      "  warnings.warn(\n",
      "Failed to send telemetry event ClientStartEvent: capture() takes 1 positional argument but 3 were given\n",
      "Failed to send telemetry event ClientCreateCollectionEvent: capture() takes 1 positional argument but 3 were given\n"
     ]
    },
    {
     "name": "stdout",
     "output_type": "stream",
     "text": [
      "Agent, RAG and Assistant are ready.\n"
     ]
    }
   ],
   "source": [
    "# RL agent persists its Q-table under src/data/q_table.json\n",
    "agent = RLAgent()\n",
    "\n",
    "# Your RAG layer + assistant (as in your repo)\n",
    "rag = rag_process()\n",
    "assistant = GHGAssistant()\n",
    "\n",
    "print(\"Agent, RAG and Assistant are ready.\")\n"
   ]
  },
  {
   "cell_type": "code",
   "execution_count": 6,
   "id": "6fc79a86-e0ae-42f6-bcaf-8299461034bb",
   "metadata": {
    "execution": {
     "iopub.execute_input": "2025-10-01T06:16:26.356737Z",
     "iopub.status.busy": "2025-10-01T06:16:26.356332Z",
     "iopub.status.idle": "2025-10-01T06:16:26.363141Z",
     "shell.execute_reply": "2025-10-01T06:16:26.362046Z",
     "shell.execute_reply.started": "2025-10-01T06:16:26.356705Z"
    }
   },
   "outputs": [],
   "source": [
    "from typing import List, Dict, Any, Tuple\n",
    "\n",
    "def retrieve_chunks(question: str, action: str, company_name: str | None) -> Tuple[List[str], List[Dict[str, Any]]]:\n",
    "    \"\"\"Converts the chosen action into a metadata filter and queries your RAG.\"\"\"\n",
    "    meta = action_to_filter(action, company_name)\n",
    "    try:\n",
    "        # If you already extended `query_documents` to accept metadata_filter\n",
    "        chunks, metas = rag.query_documents(question=question, n_results=4, metadata_filter=meta)\n",
    "    except TypeError:\n",
    "        # Backward-compatible path if your method doesn't take metadata_filter yet\n",
    "        chunks, metas = rag.query_documents(question=question, n_results=4)\n",
    "    return chunks, metas\n",
    "\n",
    "def format_context(chunks: List[str], metas: List[Dict[str, Any]]) -> str:\n",
    "    \"\"\"Optional: pretty join chunks + sources.\"\"\"\n",
    "    formatted = []\n",
    "    for ch, md in zip(chunks, metas):\n",
    "        src = md.get(\"source\", \"Unknown\")\n",
    "        pg  = md.get(\"page\") or md.get(\"chunk_number\")\n",
    "        tag = f\"{src}\" + (f\" (p.{pg})\" if pg else \"\")\n",
    "        formatted.append(f\"Source: {tag}\\n{ch}\")\n",
    "    return \"\\n\\n---\\n\\n\".join(formatted)\n"
   ]
  },
  {
   "cell_type": "code",
   "execution_count": 7,
   "id": "11117715-352b-4760-a53a-e33ba2994f49",
   "metadata": {
    "execution": {
     "iopub.execute_input": "2025-10-01T06:16:26.364562Z",
     "iopub.status.busy": "2025-10-01T06:16:26.363895Z",
     "iopub.status.idle": "2025-10-01T06:16:26.368403Z",
     "shell.execute_reply": "2025-10-01T06:16:26.367378Z",
     "shell.execute_reply.started": "2025-10-01T06:16:26.364500Z"
    }
   },
   "outputs": [],
   "source": [
    "# We'll keep the last (state, action) so you can send 👍/👎 afterwards\n",
    "last_step = {\n",
    "    \"state\": None,\n",
    "    \"action\": None,\n",
    "    \"company\": None,\n",
    "    \"response\": None\n",
    "}\n"
   ]
  },
  {
   "cell_type": "code",
   "execution_count": 8,
   "id": "0777b125-898e-40ca-8e7f-08b679f505d9",
   "metadata": {
    "execution": {
     "iopub.execute_input": "2025-10-01T06:16:26.369606Z",
     "iopub.status.busy": "2025-10-01T06:16:26.369130Z",
     "iopub.status.idle": "2025-10-01T06:16:26.375545Z",
     "shell.execute_reply": "2025-10-01T06:16:26.374689Z",
     "shell.execute_reply.started": "2025-10-01T06:16:26.369575Z"
    }
   },
   "outputs": [],
   "source": [
    "def ask(prompt: str, company_info: dict | None = None) -> str:\n",
    "    \"\"\"\n",
    "    1) Build RL state from prompt + company_info\n",
    "    2) Choose action via RL\n",
    "    3) Retrieve chunks respecting the action (filter)\n",
    "    4) Ask the assistant\n",
    "    5) Cache state/action so you can call thumb_up()/thumb_down() afterwards\n",
    "    \"\"\"\n",
    "    # 1) state\n",
    "    s = encode_state(prompt, company_info or {})\n",
    "\n",
    "    # 2) RL action\n",
    "    a = agent.select(s)\n",
    "\n",
    "    # 3) retrieval\n",
    "    company_name = (company_info or {}).get(\"name\")\n",
    "    chunks, metas = retrieve_chunks(prompt, a, company_name)\n",
    "    context = format_context(chunks, metas)\n",
    "\n",
    "    # 4) assistant\n",
    "    # Your GHGAssistant uses: await generate_response(user_prompt, context)\n",
    "    # This wrapper calls it synchronously.\n",
    "    import asyncio\n",
    "    async def _call():\n",
    "        return await assistant.generate_response(user_prompt=prompt, context=context)\n",
    "    try:\n",
    "        answer = asyncio.run(_call())\n",
    "    except RuntimeError:\n",
    "        # If there's already an event loop (sometimes happens in notebooks)\n",
    "        answer = asyncio.get_event_loop().run_until_complete(_call())\n",
    "\n",
    "    # 5) remember for feedback\n",
    "    last_step.update(state=s, action=a, company=company_info, response=answer)\n",
    "\n",
    "    print(f\"[Action] {a}\")\n",
    "    return answer\n"
   ]
  },
  {
   "cell_type": "code",
   "execution_count": 9,
   "id": "a555125d-c0cc-443f-87b6-605e00f06f97",
   "metadata": {
    "execution": {
     "iopub.execute_input": "2025-10-01T06:16:26.377118Z",
     "iopub.status.busy": "2025-10-01T06:16:26.376788Z",
     "iopub.status.idle": "2025-10-01T06:16:26.384003Z",
     "shell.execute_reply": "2025-10-01T06:16:26.383328Z",
     "shell.execute_reply.started": "2025-10-01T06:16:26.377090Z"
    }
   },
   "outputs": [],
   "source": [
    "from datetime import datetime\n",
    "import csv\n",
    "\n",
    "LOG_PATH = (SRC / \"data\" / \"rl_logs.csv\")\n",
    "LOG_PATH.parent.mkdir(parents=True, exist_ok=True)\n",
    "\n",
    "def _log_feedback(state, action, tag):\n",
    "    LOG_PATH.parent.mkdir(parents=True, exist_ok=True)\n",
    "    new_file = not LOG_PATH.exists()\n",
    "    with LOG_PATH.open(\"a\", newline=\"\", encoding=\"utf-8\") as f:\n",
    "        w = csv.writer(f)\n",
    "        if new_file:\n",
    "            w.writerow([\"ts\", \"action\", \"tag\"])\n",
    "        w.writerow([datetime.utcnow().isoformat(), action, tag])\n",
    "\n",
    "def thumb_up():\n",
    "    assert last_step[\"state\"] is not None, \"Call ask(...) first.\"\n",
    "    r = feedback_reward(\"up\")\n",
    "    agent.update(last_step[\"state\"], last_step[\"action\"], r)\n",
    "    _log_feedback(last_step[\"state\"], last_step[\"action\"], \"up\")\n",
    "    print(\"👍 thanks — learning updated.\")\n",
    "\n",
    "def thumb_down():\n",
    "    assert last_step[\"state\"] is not None, \"Call ask(...) first.\"\n",
    "    r = feedback_reward(\"down\")\n",
    "    agent.update(last_step[\"state\"], last_step[\"action\"], r)\n",
    "    _log_feedback(last_step[\"state\"], last_step[\"action\"], \"down\")\n",
    "    print(\"👎 got it — learning updated.\")\n"
   ]
  },
  {
   "cell_type": "code",
   "execution_count": 20,
   "id": "c04c625b-845a-412e-90ae-780310c17467",
   "metadata": {
    "execution": {
     "iopub.execute_input": "2025-10-01T06:39:26.019015Z",
     "iopub.status.busy": "2025-10-01T06:39:26.018733Z",
     "iopub.status.idle": "2025-10-01T06:39:27.606923Z",
     "shell.execute_reply": "2025-10-01T06:39:27.606237Z",
     "shell.execute_reply.started": "2025-10-01T06:39:26.018984Z"
    }
   },
   "outputs": [
    {
     "name": "stdout",
     "output_type": "stream",
     "text": [
      "[Action] broad\n",
      "\n",
      "Assistant:\n",
      " As an Australian company, you are subject to the Australian government's climate change policies, including the Treasury Act 2024 and the National Greenhouse and Energy Reporting (NGER) Scheme. The financial risks of carbon pricing for your company may include:\n",
      "\n",
      "1. **Direct costs**: Under the Safeguard Mechanism, if your company's emissions exceed the baseline threshold, you may be required to purchase Australian Carbon Credit Units (ACCUs) or pay a fixed price for excess emissions.\n",
      "2. **Indirect costs**: Carbon pricing can lead to increased costs for electricity, fuel, and other goods and services, which can impact your company's profitability.\n",
      "3. **Supply chain risks**: If your suppliers are not adequately prepared for carbon pricing, they may pass on increased costs to your company, or experience disruptions that impact your operations.\n",
      "4. **Compliance costs**: Your company may incur costs associated with measuring, reporting, and verifying greenhouse gas emissions under the NGER Scheme and other regulatory requirements.\n",
      "\n",
      "To manage these risks, I recommend that your company conducts a thorough review of its emissions profile, assesses potential exposure to carbon pricing, and develops a strategy to minimize costs and maximize opportunities. This may involve investing in energy efficiency, renewable energy, or other low-carbon technologies, as well as engaging with stakeholders to manage supply chain risks.\n",
      "\n",
      "Please provide more information about your company's operations, emissions profile, and current climate change mitigation strategies, so I can provide more tailored guidance.\n"
     ]
    }
   ],
   "source": [
    "company = {\"name\": \"Acme\", \"sector\": \"energy\", \"size\": \"large\"}\n",
    "\n",
    "answer = ask(\"What are the financial risks of carbon pricing for us?\", company)\n",
    "print(\"\\nAssistant:\\n\", answer)\n"
   ]
  },
  {
   "cell_type": "code",
   "execution_count": 15,
   "id": "9b423186-a1c7-495e-a49b-37b8b1970400",
   "metadata": {
    "execution": {
     "iopub.execute_input": "2025-10-01T06:30:56.505280Z",
     "iopub.status.busy": "2025-10-01T06:30:56.504985Z",
     "iopub.status.idle": "2025-10-01T06:30:56.510220Z",
     "shell.execute_reply": "2025-10-01T06:30:56.509436Z",
     "shell.execute_reply.started": "2025-10-01T06:30:56.505258Z"
    }
   },
   "outputs": [
    {
     "name": "stdout",
     "output_type": "stream",
     "text": [
      "👍 thanks — learning updated.\n"
     ]
    },
    {
     "name": "stderr",
     "output_type": "stream",
     "text": [
      "/tmp/ipykernel_15797/2017843623.py:14: DeprecationWarning: datetime.datetime.utcnow() is deprecated and scheduled for removal in a future version. Use timezone-aware objects to represent datetimes in UTC: datetime.datetime.now(datetime.UTC).\n",
      "  w.writerow([datetime.utcnow().isoformat(), action, tag])\n"
     ]
    }
   ],
   "source": [
    "thumb_up()    # or: thumb_down()\n"
   ]
  },
  {
   "cell_type": "code",
   "execution_count": 16,
   "id": "7b59ce04-c8f9-4561-a84a-c5a410bbf198",
   "metadata": {
    "execution": {
     "iopub.execute_input": "2025-10-01T06:31:21.487417Z",
     "iopub.status.busy": "2025-10-01T06:31:21.487137Z",
     "iopub.status.idle": "2025-10-01T06:31:23.457854Z",
     "shell.execute_reply": "2025-10-01T06:31:23.457094Z",
     "shell.execute_reply.started": "2025-10-01T06:31:21.487396Z"
    }
   },
   "outputs": [
    {
     "name": "stdout",
     "output_type": "stream",
     "text": [
      "[Action] broad\n",
      "\n",
      "Assistant:\n",
      " To lower Scope 3 emissions next year, I recommend the following steps, aligned with the Australian Sustainability Reporting Standards (ASRS) and the National Greenhouse and Energy Reporting (NGER) Scheme:\n",
      "\n",
      "1. **Conduct a Scope 3 emissions assessment**: Identify and quantify your company's Scope 3 emissions sources, such as:\n",
      "\t* Purchased goods and services\n",
      "\t* Fuel- and energy-related activities (e.g., transportation, distribution)\n",
      "\t* Waste generated in operations\n",
      "\t* Business travel\n",
      "\t* Employee commuting\n",
      "2. **Set science-based targets**: Establish reduction targets for Scope 3 emissions, considering your company's specific circumstances and industry benchmarks.\n",
      "3. **Engage with suppliers**: Collaborate with suppliers to reduce their emissions and encourage the adoption of sustainable practices, such as:\n",
      "\t* Requesting environmental performance data\n",
      "\t* Incorporating sustainability criteria into procurement processes\n",
      "\t* Providing incentives for suppliers to reduce emissions\n",
      "4. **Optimize logistics and transportation**: Explore alternatives to reduce emissions from transportation, such as:\n",
      "\t* Route optimization\n",
      "\t* Modal shift (e.g., from road to rail or sea)\n",
      "\t* Electric or hybrid vehicles\n",
      "\t* Offset emissions from unavoidable flights\n",
      "5. **Implement sustainable waste management practices**: Minimize waste generation and promote recycling, composting, or energy recovery from waste.\n",
      "6. **Encourage sustainable employee behavior**: Promote low-carbon commuting options, such as carpooling, public transport, or cycling, and provide incentives for employees to reduce their environmental impact.\n",
      "7. **Monitor and report progress**: Regularly track and report Scope 3 emissions reductions, using the ASRS disclosure structure, to ensure transparency and accountability.\n",
      "\n",
      "By following these steps, your company can effectively reduce Scope 3 emissions and contribute to a more sustainable future, while complying with Australian climate disclosure regulations.\n",
      "\n",
      "**Disclaimer:** Be mindful that this is an AI assistant. Please consult with a professional before proceeding.\n"
     ]
    }
   ],
   "source": [
    "answer = ask(\"How can we lower Scope 3 emissions next year?\", company)\n",
    "print(\"\\nAssistant:\\n\", answer)\n"
   ]
  },
  {
   "cell_type": "code",
   "execution_count": null,
   "id": "b1834aee-b285-4d84-938f-b478d21d8c28",
   "metadata": {},
   "outputs": [],
   "source": []
  },
  {
   "cell_type": "code",
   "execution_count": null,
   "id": "99e8f153-8e8d-410a-8bf5-5afb8f3250f1",
   "metadata": {},
   "outputs": [],
   "source": []
  },
  {
   "cell_type": "code",
   "execution_count": null,
   "id": "be4971e4-441b-461e-aded-d27508f6e8c5",
   "metadata": {},
   "outputs": [],
   "source": []
  },
  {
   "cell_type": "code",
   "execution_count": null,
   "id": "0d70c188-a27f-4ef8-b236-97658c6f806a",
   "metadata": {},
   "outputs": [],
   "source": []
  }
 ],
 "metadata": {
  "kernelspec": {
   "display_name": "Python 3 (ipykernel)",
   "language": "python",
   "name": "python3"
  },
  "language_info": {
   "codemirror_mode": {
    "name": "ipython",
    "version": 3
   },
   "file_extension": ".py",
   "mimetype": "text/x-python",
   "name": "python",
   "nbconvert_exporter": "python",
   "pygments_lexer": "ipython3",
   "version": "3.12.9"
  }
 },
 "nbformat": 4,
 "nbformat_minor": 5
}
